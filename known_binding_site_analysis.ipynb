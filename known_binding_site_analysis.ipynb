{
 "cells": [
  {
   "cell_type": "code",
   "execution_count": null,
   "metadata": {
    "collapsed": true
   },
   "outputs": [],
   "source": [
    "import pandas as pd\n",
    "import os\n",
    "import seaborn as sn\n",
    "import matplotlib as mpl\n",
    "from tqdm import tqdm\n",
    "from sklearn.metrics import roc_auc_score, average_precision_score, precision_score\n",
    "import pickle\n",
    "sn.set_theme()\n",
    "mpl.rcParams['figure.dpi'] = 300\n",
    "sn.set_style(\"whitegrid\")\n",
    "import numpy as np\n",
    "from matplotlib import pyplot as plt\n",
    "from Bio.pairwise2 import format_alignment\n",
    "from Bio import pairwise2\n",
    "\n",
    "anno = pd.read_csv('data/scraped_annotations.csv')\n",
    "binding_db = pd.read_csv('data/binding_db.csv')"
   ]
  }
 ],
 "metadata": {
  "kernelspec": {
   "display_name": "Python 3",
   "language": "python",
   "name": "python3"
  },
  "language_info": {
   "codemirror_mode": {
    "name": "ipython",
    "version": 2
   },
   "file_extension": ".py",
   "mimetype": "text/x-python",
   "name": "python",
   "nbconvert_exporter": "python",
   "pygments_lexer": "ipython2",
   "version": "2.7.6"
  }
 },
 "nbformat": 4,
 "nbformat_minor": 0
}