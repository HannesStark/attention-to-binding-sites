{
 "cells": [
  {
   "cell_type": "code",
   "execution_count": 1,
   "metadata": {
    "collapsed": true
   },
   "outputs": [
    {
     "name": "stderr",
     "output_type": "stream",
     "text": [
      "C:\\Users\\HannesStark\\Anaconda3\\envs\\equibind\\lib\\site-packages\\IPython\\core\\interactiveshell.py:3457: DtypeWarning: Columns (10,11,13,14,15,16,17) have mixed types.Specify dtype option on import or set low_memory=False.\n",
      "  exec(code_obj, self.user_global_ns, self.user_ns)\n",
      "C:\\Users\\HannesStark\\Anaconda3\\envs\\equibind\\lib\\site-packages\\IPython\\core\\interactiveshell.py:3457: DtypeWarning: Columns (7,9,10) have mixed types.Specify dtype option on import or set low_memory=False.\n",
      "  exec(code_obj, self.user_global_ns, self.user_ns)\n"
     ]
    }
   ],
   "source": [
    "import pandas as pd\n",
    "import os\n",
    "import seaborn as sn\n",
    "import matplotlib as mpl\n",
    "from tqdm import tqdm\n",
    "from sklearn.metrics import roc_auc_score, average_precision_score, precision_score\n",
    "import pickle\n",
    "sn.set_theme()\n",
    "mpl.rcParams['figure.dpi'] = 300\n",
    "sn.set_style(\"whitegrid\")\n",
    "import numpy as np\n",
    "from matplotlib import pyplot as plt\n",
    "from Bio.pairwise2 import format_alignment\n",
    "from Bio import pairwise2\n",
    "\n",
    "anno = pd.read_csv('data/scraped_annotations.csv')\n",
    "binding_db = pd.read_csv('data/binding_db.csv')"
   ]
  },
  {
   "cell_type": "code",
   "execution_count": 2,
   "outputs": [],
   "source": [
    "def realign(preds, truth, dist=2):\n",
    "    # Produce different shifts for the `preds` array\n",
    "    pad_preds = np.pad(preds, [(dist, dist)])\n",
    "    shift_preds = []\n",
    "    shift_array = np.concatenate([np.arange(-dist, 0), np.arange(1, dist + 1)])\n",
    "    for ii in shift_array:\n",
    "        this_preds = np.pad(pad_preds.copy(), [(0, 1)])\n",
    "        shift_preds.append(this_preds[dist - ii:-dist - ii - 1] * truth)\n",
    "\n",
    "    # Shift the `preds` array according to the maximum intersection with the truth\n",
    "    EPS = 1e-8\n",
    "    eps = np.zeros_like(shift_preds[0]) + EPS\n",
    "    shift_preds = np.stack([eps] + shift_preds, axis=0)\n",
    "    shift_idx = np.argmax(shift_preds, axis=0)\n",
    "    shift_idx[shift_idx == 0] = -1\n",
    "    shift_preds = np.concatenate([shift_preds, preds.reshape(1, *preds.shape)], axis=0)\n",
    "    preds2 = shift_preds[shift_idx, np.arange(shift_preds.shape[1])]\n",
    "\n",
    "    # Find the values that were shifted, and replace them by ~0\n",
    "    shift_factor = np.array([shift_array[idx - 1] if idx >= 0 else 0 for idx in shift_idx])\n",
    "    was_shifted = -shift_factor + np.arange(len(shift_factor))\n",
    "    was_shifted = was_shifted[shift_factor != 0]\n",
    "    preds2[was_shifted] = EPS\n",
    "\n",
    "    # In case of intersection with the truth, keep the highest value to prevent bad shifts\n",
    "    preds2[truth] = np.maximum(preds[truth], preds2[truth])\n",
    "    return preds2\n"
   ],
   "metadata": {
    "collapsed": false,
    "pycharm": {
     "name": "#%%\n"
    }
   }
  },
  {
   "cell_type": "code",
   "source": [
    "def binding_site_annotation(alignments_input, has_target_frame, input_sequence,misaligned_allowance):\n",
    "    is_binding_site = np.zeros(len(input_sequence))\n",
    "    for alignment, sequence, binding_sites in list(zip(alignments_input, has_target_frame['sequence'],\n",
    "                                                       has_target_frame['Binding site residues1'])):\n",
    "        if alignment['score']< len(input_sequence) * alignment_ratio or alignment['score'] < len(\n",
    "                input_sequence) - misaligned_allowance: continue\n",
    "        acids = []\n",
    "        site_indices = []\n",
    "        for site in binding_sites.split():\n",
    "            acids.append(site[0])\n",
    "            site_indices.append(int(site[1:]) - 1)\n",
    "        reverse_indices = site_indices[::-1]\n",
    "        annotated_count = 0\n",
    "        to_annotate_count = 0\n",
    "        target_sequence = ''\n",
    "        target_sequence_annotations = ''\n",
    "        annotated_sequence_annotations = ''\n",
    "        annotated_sequence_annotations_manual = ''\n",
    "        align_annotation_annotated_sequence = ''\n",
    "        align_annotation_target = ''\n",
    "        for i in range(len(is_binding_site)):\n",
    "            if i in reverse_indices:\n",
    "                annotated_sequence_annotations += '1'\n",
    "            else:\n",
    "                annotated_sequence_annotations += '0'\n",
    "\n",
    "        for annotated, to_annotate in list(zip(alignment['seq1'], alignment['seq2'])):\n",
    "            if len(reverse_indices) == 0: break\n",
    "            is_binding_idx = False\n",
    "            if reverse_indices[-1] == annotated_count and annotated != '-':\n",
    "                reverse_indices.pop()\n",
    "                is_binding_idx = True\n",
    "\n",
    "            if to_annotate != '-':\n",
    "                if is_binding_idx:\n",
    "                    is_binding_site[to_annotate_count] = 1\n",
    "                    target_sequence_annotations += '1'\n",
    "                    align_annotation_target += '1'\n",
    "                else:\n",
    "                    target_sequence_annotations += '0'\n",
    "                    align_annotation_target += '0'\n",
    "                target_sequence += to_annotate\n",
    "                to_annotate_count += 1\n",
    "            else:\n",
    "                align_annotation_target += '-'\n",
    "\n",
    "            if annotated != '-':\n",
    "                if is_binding_idx:\n",
    "                    align_annotation_annotated_sequence += '1'\n",
    "                    annotated_sequence_annotations_manual += '1'\n",
    "                else:\n",
    "                    align_annotation_annotated_sequence += '0'\n",
    "                    annotated_sequence_annotations_manual += '0'\n",
    "                annotated_count += 1\n",
    "            else:\n",
    "                align_annotation_annotated_sequence += '-'\n",
    "\n",
    "        #print(align_annotation_target)\n",
    "        #print(alignment['seq1'])\n",
    "        #print(alignment['seq2'])\n",
    "        #print(align_annotation_annotated_sequence)\n",
    "        #print(target_sequence_annotations)\n",
    "        #print(target_sequence)\n",
    "        #print(sequence)\n",
    "        #print(annotated_sequence_annotations)\n",
    "        #print(annotated_sequence_annotations_manual)\n",
    "        #print('\\n')\n",
    "    return is_binding_site"
   ],
   "metadata": {
    "collapsed": false,
    "pycharm": {
     "name": "#%%\n"
    }
   },
   "execution_count": 3,
   "outputs": []
  },
  {
   "cell_type": "code",
   "execution_count": 4,
   "outputs": [],
   "source": [
    "import os\n",
    "import yaml\n",
    "from zipfile import ZipFile\n",
    "\n",
    "FILE_BEFORE = \"metrics_before_finetune.yaml\"\n",
    "FILE_AFTER = \"metrics.yaml\"\n",
    "\n",
    "def get_metrics_from_zipfile(path):\n",
    "    with ZipFile(path) as zip:\n",
    "        all_files = list(zip.namelist())\n",
    "        metrics_before, metrics_after = {}, {}\n",
    "        for file in tqdm(all_files):\n",
    "            path = os.path.dirname(file)\n",
    "            filename = os.path.basename(file)\n",
    "            if filename == FILE_BEFORE:\n",
    "                with zip.open(file) as file_yaml:\n",
    "                    dic = yaml.load(file_yaml, Loader=yaml.FullLoader)\n",
    "                metrics_before[path] = dic[\"best_epoch_metric_summaries\"][\"test\"]\n",
    "            elif filename == FILE_AFTER:\n",
    "                with zip.open(file) as file_yaml:\n",
    "                    dic = yaml.load(file_yaml, Loader=yaml.FullLoader)\n",
    "                metrics_after[path] = dic[\"best_epoch_metric_summaries\"][\"test\"]\n",
    "    return metrics_before, metrics_after"
   ],
   "metadata": {
    "collapsed": false,
    "pycharm": {
     "name": "#%%\n"
    }
   }
  },
  {
   "cell_type": "code",
   "execution_count": 5,
   "outputs": [],
   "source": [
    "output_name = 'images_1head'\n",
    "if not os.path.exists(output_name):\n",
    "    os.mkdir(output_name)\n",
    "input_name = 'finetune_all_lr0.0001_loss-mse-heads-4'"
   ],
   "metadata": {
    "collapsed": false,
    "pycharm": {
     "name": "#%%\n"
    }
   }
  },
  {
   "cell_type": "code",
   "execution_count": 6,
   "outputs": [
    {
     "name": "stderr",
     "output_type": "stream",
     "text": [
      "100%|██████████| 17675/17675 [01:41<00:00, 173.84it/s]\n"
     ]
    }
   ],
   "source": [
    "metrics_before, metrics_after = get_metrics_from_zipfile(\n",
    "    'data/binding_db_DGN_ESM_models_finetuned_finetune_all_lr0.0001_loss-mse_heads-4.zip')"
   ],
   "metadata": {
    "collapsed": false,
    "pycharm": {
     "name": "#%%\n"
    }
   }
  },
  {
   "cell_type": "code",
   "execution_count": 7,
   "outputs": [
    {
     "name": "stderr",
     "output_type": "stream",
     "text": [
      "100%|██████████| 1502/1502 [00:00<?, ?it/s]\n"
     ]
    }
   ],
   "source": [
    "names = os.listdir(f'data/{input_name}')\n",
    "pearsonRs = []\n",
    "for name in tqdm(names):\n",
    "    try:\n",
    "        pearsonRs.append(metrics_after[f'{input_name}/{name}/default/version_0']['pearsonr/test'])\n",
    "    except:\n",
    "        pearsonRs.append(0)\n"
   ],
   "metadata": {
    "collapsed": false,
    "pycharm": {
     "name": "#%%\n"
    }
   }
  },
  {
   "cell_type": "code",
   "execution_count": 9,
   "outputs": [
    {
     "name": "stdout",
     "output_type": "stream",
     "text": [
      "1502\n"
     ]
    },
    {
     "name": "stderr",
     "output_type": "stream",
     "text": [
      "100%|██████████| 1502/1502 [13:32:20<00:00, 32.45s/it]    \n"
     ]
    }
   ],
   "source": [
    "\n",
    "per_name_alignments = {}\n",
    "for name, pearsonR in tqdm(list(zip(names, pearsonRs))):\n",
    "\n",
    "    attention_weights_name = os.path.join('data',input_name, name, 'default/version_0/attn_weights_test_head_0.csv')\n",
    "    if not os.path.exists(attention_weights_name):\n",
    "        attention_weights_name = os.path.join('data',input_name, name, 'FLAP/default/version_0/attn_weights_test_head_0.csv')\n",
    "    if not os.path.exists(attention_weights_name):\n",
    "        per_name_alignments[name] =[]\n",
    "        continue\n",
    "    csv_input = pd.read_csv(attention_weights_name)\n",
    "    csv_input = csv_input.sort_values(by=['preds-0'], ascending=False)\n",
    "    #csv_input = csv_input.drop(csv_input.index[range(10,len(csv_input))])\n",
    "    query_sequences = list(set(csv_input['proteins_seq'].tolist()))\n",
    "    for query_idx, query_sequence in enumerate(query_sequences):\n",
    "        seq_info = binding_db.loc[binding_db['BindingDB Target Chain  Sequence'] == query_sequence]\n",
    "        complex_ids_repeated = seq_info['PDB ID(s) for Ligand-Target Complex'].dropna().tolist()\n",
    "        complex_ids = list(set([pdbid for repeated in complex_ids_repeated for pdbid in str(repeated).split(',')]))\n",
    "        if complex_ids == []: continue\n",
    "        target_ids_repeated = seq_info['PDB ID(s) of Target Chain'].dropna().tolist()\n",
    "        target_ids = list(set([pdbid for repeated in target_ids_repeated for pdbid in str(repeated).split(',')]))\n",
    "        comp_and_target_ids = list(set(complex_ids) | set(target_ids))\n",
    "        has_target = anno.loc[anno['PDBID'].isin(comp_and_target_ids)]\n",
    "        has_target_by_sequence = anno.loc[anno['sequence'].isin(query_sequences)]\n",
    "        sequences = has_target['sequence'].tolist()\n",
    "\n",
    "        all_alignments = []\n",
    "\n",
    "        for sequence in sequences:\n",
    "            try:\n",
    "                alignments = pairwise2.align.globalxx(query_sequence, sequence)\n",
    "                all_alignments.append({'score': alignments[0].score, 'seq1': alignments[0][0], 'seq2': alignments[0][1]})\n",
    "            except:\n",
    "                continue\n",
    "        per_name_alignments[name + 'query_idx' + str(query_idx)] =all_alignments\n",
    "\n",
    "if not os.path.exists('data/alignments/'):\n",
    "    os.mkdir('data/alignments/')\n",
    "import pickle\n",
    "pickle.dump(per_name_alignments,open(f'data/alignments/{input_name}.pt','wb'))\n"
   ],
   "metadata": {
    "collapsed": false,
    "pycharm": {
     "name": "#%%\n"
    }
   }
  },
  {
   "cell_type": "code",
   "execution_count": 14,
   "outputs": [
    {
     "name": "stderr",
     "output_type": "stream",
     "text": [
      "  1%|          | 16/1502 [00:02<03:28,  7.12it/s]"
     ]
    },
    {
     "name": "stdout",
     "output_type": "stream",
     "text": [
      "missing  3',5'-cyclic phosphodiesterase\n",
      "missing  3',5'-cyclic phosphodiesterase\n"
     ]
    },
    {
     "name": "stderr",
     "output_type": "stream",
     "text": [
      "  2%|▏         | 28/1502 [00:08<08:24,  2.92it/s]"
     ]
    },
    {
     "name": "stdout",
     "output_type": "stream",
     "text": [
      "missing  4-hydroxyphenylpyruvate dioxygenase\n"
     ]
    },
    {
     "name": "stderr",
     "output_type": "stream",
     "text": [
      "  3%|▎         | 46/1502 [00:11<03:23,  7.16it/s]"
     ]
    },
    {
     "name": "stdout",
     "output_type": "stream",
     "text": [
      "index 1058 is out of bounds for axis 0 with size 573\n",
      "For name  60 kDa heat shock protein, mitochondrial\n"
     ]
    },
    {
     "name": "stderr",
     "output_type": "stream",
     "text": [
      "  3%|▎         | 48/1502 [00:12<08:20,  2.90it/s]"
     ]
    },
    {
     "name": "stdout",
     "output_type": "stream",
     "text": [
      "index 1065 is out of bounds for axis 0 with size 660\n",
      "For name  72 kDa type IV collagenase\n"
     ]
    },
    {
     "name": "stderr",
     "output_type": "stream",
     "text": [
      "  3%|▎         | 50/1502 [00:14<12:34,  1.93it/s]"
     ]
    },
    {
     "name": "stdout",
     "output_type": "stream",
     "text": [
      "missing  Acetylcholinesterase\n",
      "missing  Acetylcholinesterase\n"
     ]
    },
    {
     "name": "stderr",
     "output_type": "stream",
     "text": [
      "  4%|▍         | 65/1502 [00:20<07:49,  3.06it/s]"
     ]
    },
    {
     "name": "stdout",
     "output_type": "stream",
     "text": [
      "index 1059 is out of bounds for axis 0 with size 824\n",
      "For name  ADAM17\n"
     ]
    },
    {
     "name": "stderr",
     "output_type": "stream",
     "text": [
      "  6%|▋         | 95/1502 [00:24<02:26,  9.62it/s]"
     ]
    },
    {
     "name": "stdout",
     "output_type": "stream",
     "text": [
      "index 483 is out of bounds for axis 0 with size 453\n",
      "For name  Aldehyde dehydrogenase 3A1 (ALDH3A1)\n"
     ]
    },
    {
     "name": "stderr",
     "output_type": "stream",
     "text": [
      "  8%|▊         | 119/1502 [00:26<01:29, 15.38it/s]"
     ]
    },
    {
     "name": "stdout",
     "output_type": "stream",
     "text": [
      "index 536 is out of bounds for axis 0 with size 450\n",
      "For name  Alpha-2A adrenergic receptor\n"
     ]
    },
    {
     "name": "stderr",
     "output_type": "stream",
     "text": [
      "  8%|▊         | 126/1502 [00:30<10:02,  2.28it/s]"
     ]
    },
    {
     "name": "stdout",
     "output_type": "stream",
     "text": [
      "missing  Amine oxidase, copper containing\n"
     ]
    },
    {
     "name": "stderr",
     "output_type": "stream",
     "text": [
      "  9%|▊         | 128/1502 [00:31<10:03,  2.28it/s]"
     ]
    },
    {
     "name": "stdout",
     "output_type": "stream",
     "text": [
      "missing  Aminopeptidase N\n"
     ]
    },
    {
     "name": "stderr",
     "output_type": "stream",
     "text": [
      "  9%|▉         | 133/1502 [00:34<11:40,  1.95it/s]"
     ]
    },
    {
     "name": "stdout",
     "output_type": "stream",
     "text": [
      "index 399 is out of bounds for axis 0 with size 363\n",
      "For name  Angiotensin II receptor\n"
     ]
    },
    {
     "name": "stderr",
     "output_type": "stream",
     "text": [
      "  9%|▉         | 141/1502 [00:35<05:29,  4.13it/s]"
     ]
    },
    {
     "name": "stdout",
     "output_type": "stream",
     "text": [
      "missing  Apoptosis regulator Bcl-2\n"
     ]
    },
    {
     "name": "stderr",
     "output_type": "stream",
     "text": [
      " 11%|█▏        | 171/1502 [00:41<05:40,  3.91it/s]"
     ]
    },
    {
     "name": "stdout",
     "output_type": "stream",
     "text": [
      "index 783 is out of bounds for axis 0 with size 770\n",
      "For name  Beta amyloid A4 protein\n"
     ]
    },
    {
     "name": "stderr",
     "output_type": "stream",
     "text": [
      " 12%|█▏        | 175/1502 [00:42<06:45,  3.27it/s]"
     ]
    },
    {
     "name": "stdout",
     "output_type": "stream",
     "text": [
      "index 418 is out of bounds for axis 0 with size 413\n",
      "For name  Beta-2 adrenergic receptor\n"
     ]
    },
    {
     "name": "stderr",
     "output_type": "stream",
     "text": [
      " 12%|█▏        | 176/1502 [00:42<06:47,  3.26it/s]"
     ]
    },
    {
     "name": "stdout",
     "output_type": "stream",
     "text": [
      "index 442 is out of bounds for axis 0 with size 413\n",
      "For name  Beta-2 adrenergic receptor and beta-3 adrenergic receptor\n"
     ]
    },
    {
     "name": "stderr",
     "output_type": "stream",
     "text": [
      " 12%|█▏        | 181/1502 [00:43<04:55,  4.48it/s]"
     ]
    },
    {
     "name": "stdout",
     "output_type": "stream",
     "text": [
      "index 334 is out of bounds for axis 0 with size 265\n",
      "For name  Beta-lactamase\n",
      "missing  Beta-lactamase\n"
     ]
    },
    {
     "name": "stderr",
     "output_type": "stream",
     "text": [
      " 12%|█▏        | 184/1502 [00:46<10:33,  2.08it/s]"
     ]
    },
    {
     "name": "stdout",
     "output_type": "stream",
     "text": [
      "index 390 is out of bounds for axis 0 with size 381\n",
      "For name  Beta-lactamase\n"
     ]
    },
    {
     "name": "stderr",
     "output_type": "stream",
     "text": [
      " 13%|█▎        | 192/1502 [00:47<07:06,  3.07it/s]"
     ]
    },
    {
     "name": "stdout",
     "output_type": "stream",
     "text": [
      "index 783 is out of bounds for axis 0 with size 770\n",
      "For name  Beta-Secretase (AA 1-460)\n"
     ]
    },
    {
     "name": "stderr",
     "output_type": "stream",
     "text": [
      " 13%|█▎        | 194/1502 [00:52<25:51,  1.19s/it]"
     ]
    },
    {
     "name": "stdout",
     "output_type": "stream",
     "text": [
      "missing  Beta-secretase 1\n"
     ]
    },
    {
     "name": "stderr",
     "output_type": "stream",
     "text": [
      " 13%|█▎        | 199/1502 [00:53<11:06,  1.96it/s]"
     ]
    },
    {
     "name": "stdout",
     "output_type": "stream",
     "text": [
      "missing  Beta-secretase 2\n"
     ]
    },
    {
     "name": "stderr",
     "output_type": "stream",
     "text": [
      " 14%|█▍        | 217/1502 [00:56<03:02,  7.06it/s]"
     ]
    },
    {
     "name": "stdout",
     "output_type": "stream",
     "text": [
      "index 127 is out of bounds for axis 0 with size 127\n",
      "For name  BRD4 BD1 (aa 42-168)\n"
     ]
    },
    {
     "name": "stderr",
     "output_type": "stream",
     "text": [
      " 15%|█▍        | 218/1502 [00:56<04:04,  5.26it/s]"
     ]
    },
    {
     "name": "stdout",
     "output_type": "stream",
     "text": [
      "index 127 is out of bounds for axis 0 with size 127\n",
      "For name  BRD4-BD1\n",
      "index 103 is out of bounds for axis 0 with size 73\n",
      "For name  BRD4-BD1\n"
     ]
    },
    {
     "name": "stderr",
     "output_type": "stream",
     "text": [
      " 15%|█▍        | 219/1502 [00:56<04:43,  4.52it/s]"
     ]
    },
    {
     "name": "stdout",
     "output_type": "stream",
     "text": [
      "missing  BRD4-BD2\n"
     ]
    },
    {
     "name": "stderr",
     "output_type": "stream",
     "text": [
      " 16%|█▌        | 233/1502 [00:58<02:51,  7.41it/s]"
     ]
    },
    {
     "name": "stdout",
     "output_type": "stream",
     "text": [
      "index 75 is out of bounds for axis 0 with size 73\n",
      "For name  Bromodomain-containing protein 4 Bromo 2 domain(BRD4 BD2)\n"
     ]
    },
    {
     "name": "stderr",
     "output_type": "stream",
     "text": [
      " 18%|█▊        | 274/1502 [01:05<02:44,  7.47it/s]"
     ]
    },
    {
     "name": "stdout",
     "output_type": "stream",
     "text": [
      "index 578 is out of bounds for axis 0 with size 473\n",
      "For name  Cannabinoid receptor 1\n"
     ]
    },
    {
     "name": "stderr",
     "output_type": "stream",
     "text": [
      " 18%|█▊        | 276/1502 [01:08<07:38,  2.68it/s]"
     ]
    },
    {
     "name": "stdout",
     "output_type": "stream",
     "text": [
      "missing  Cannabinoid receptor 2\n"
     ]
    },
    {
     "name": "stderr",
     "output_type": "stream",
     "text": [
      " 19%|█▉        | 282/1502 [01:13<15:04,  1.35it/s]"
     ]
    },
    {
     "name": "stdout",
     "output_type": "stream",
     "text": [
      "index 2319 is out of bounds for axis 0 with size 459\n",
      "For name  Carbonic anhydrases; II & IX\n"
     ]
    },
    {
     "name": "stderr",
     "output_type": "stream",
     "text": [
      " 20%|██        | 303/1502 [01:19<05:22,  3.72it/s]"
     ]
    },
    {
     "name": "stdout",
     "output_type": "stream",
     "text": [
      "missing  Cathepsin A (CTSA)\n"
     ]
    },
    {
     "name": "stderr",
     "output_type": "stream",
     "text": [
      " 21%|██        | 316/1502 [01:25<06:16,  3.15it/s]"
     ]
    },
    {
     "name": "stdout",
     "output_type": "stream",
     "text": [
      "index 633 is out of bounds for axis 0 with size 473\n",
      "For name  Cdc25C\n"
     ]
    },
    {
     "name": "stderr",
     "output_type": "stream",
     "text": [
      " 22%|██▏       | 336/1502 [01:28<05:17,  3.68it/s]"
     ]
    },
    {
     "name": "stdout",
     "output_type": "stream",
     "text": [
      "missing  Cholecystokinin receptor\n"
     ]
    },
    {
     "name": "stderr",
     "output_type": "stream",
     "text": [
      " 24%|██▎       | 354/1502 [01:39<10:59,  1.74it/s]"
     ]
    },
    {
     "name": "stdout",
     "output_type": "stream",
     "text": [
      "index 508 is out of bounds for axis 0 with size 471\n",
      "For name  Collagenase 3\n"
     ]
    },
    {
     "name": "stderr",
     "output_type": "stream",
     "text": [
      " 24%|██▎       | 356/1502 [01:39<08:05,  2.36it/s]"
     ]
    },
    {
     "name": "stdout",
     "output_type": "stream",
     "text": [
      "index 750 is out of bounds for axis 0 with size 688\n",
      "For name  Complement C1s\n"
     ]
    },
    {
     "name": "stderr",
     "output_type": "stream",
     "text": [
      " 24%|██▍       | 363/1502 [01:40<03:59,  4.75it/s]"
     ]
    },
    {
     "name": "stdout",
     "output_type": "stream",
     "text": [
      "index 804 is out of bounds for axis 0 with size 467\n",
      "For name  Cruzipain\n"
     ]
    },
    {
     "name": "stderr",
     "output_type": "stream",
     "text": [
      " 25%|██▍       | 373/1502 [01:44<08:11,  2.30it/s]"
     ]
    },
    {
     "name": "stdout",
     "output_type": "stream",
     "text": [
      "missing  Cyclin-Dependent Kinase 4 (CDK4)\n",
      "index 749 is out of bounds for axis 0 with size 292\n",
      "For name  Cyclin-Dependent Kinase 5 (CDK5)\n"
     ]
    },
    {
     "name": "stderr",
     "output_type": "stream",
     "text": [
      " 25%|██▌       | 380/1502 [01:47<06:17,  2.97it/s]"
     ]
    },
    {
     "name": "stdout",
     "output_type": "stream",
     "text": [
      "index 751 is out of bounds for axis 0 with size 726\n",
      "For name  Cyclin-Dependent Kinase 9 (CDK9)\n"
     ]
    },
    {
     "name": "stderr",
     "output_type": "stream",
     "text": [
      " 26%|██▌       | 388/1502 [01:47<02:49,  6.59it/s]"
     ]
    },
    {
     "name": "stdout",
     "output_type": "stream",
     "text": [
      "index 352 is out of bounds for axis 0 with size 346\n",
      "For name  CYSLTR2\n"
     ]
    },
    {
     "name": "stderr",
     "output_type": "stream",
     "text": [
      " 26%|██▌       | 391/1502 [01:47<02:53,  6.41it/s]"
     ]
    },
    {
     "name": "stdout",
     "output_type": "stream",
     "text": [
      "index 367 is out of bounds for axis 0 with size 337\n",
      "For name  Cysteinyl leukotriene receptor\n",
      "index 352 is out of bounds for axis 0 with size 346\n",
      "For name  Cysteinyl leukotriene receptor\n",
      "index 367 is out of bounds for axis 0 with size 337\n",
      "For name  Cysteinyl leukotriene receptor 1\n"
     ]
    },
    {
     "name": "stderr",
     "output_type": "stream",
     "text": [
      " 28%|██▊       | 425/1502 [01:52<01:27, 12.25it/s]"
     ]
    },
    {
     "name": "stdout",
     "output_type": "stream",
     "text": [
      "missing  Cytosolic phospholipase A2\n"
     ]
    },
    {
     "name": "stderr",
     "output_type": "stream",
     "text": [
      " 29%|██▉       | 433/1502 [01:54<02:52,  6.18it/s]"
     ]
    },
    {
     "name": "stdout",
     "output_type": "stream",
     "text": [
      "missing  D-amino-acid oxidase\n"
     ]
    },
    {
     "name": "stderr",
     "output_type": "stream",
     "text": [
      " 29%|██▉       | 435/1502 [01:54<02:45,  6.45it/s]"
     ]
    },
    {
     "name": "stdout",
     "output_type": "stream",
     "text": [
      "index 314 is out of bounds for axis 0 with size 259\n",
      "For name  DCN1-like protein 1\n"
     ]
    },
    {
     "name": "stderr",
     "output_type": "stream",
     "text": [
      " 30%|██▉       | 448/1502 [01:56<02:38,  6.66it/s]"
     ]
    },
    {
     "name": "stdout",
     "output_type": "stream",
     "text": [
      "missing  Dihydrofolate Reductase (DHFR)\n"
     ]
    },
    {
     "name": "stderr",
     "output_type": "stream",
     "text": [
      " 30%|██▉       | 450/1502 [01:57<03:46,  4.64it/s]"
     ]
    },
    {
     "name": "stdout",
     "output_type": "stream",
     "text": [
      "missing  Dihydroorotate Dehydrogenase (DHODH)\n"
     ]
    },
    {
     "name": "stderr",
     "output_type": "stream",
     "text": [
      " 30%|███       | 451/1502 [01:59<06:44,  2.60it/s]"
     ]
    },
    {
     "name": "stdout",
     "output_type": "stream",
     "text": [
      "missing  Dihydroorotate Dehydrogenase (DHODH)\n"
     ]
    },
    {
     "name": "stderr",
     "output_type": "stream",
     "text": [
      " 31%|███       | 459/1502 [02:05<13:29,  1.29it/s]"
     ]
    },
    {
     "name": "stdout",
     "output_type": "stream",
     "text": [
      "index 508 is out of bounds for axis 0 with size 492\n",
      "For name  Dipeptidyl peptidase II and dipeptidyl peptidase IV (DPP2 and DPP4)\n"
     ]
    },
    {
     "name": "stderr",
     "output_type": "stream",
     "text": [
      " 31%|███       | 462/1502 [02:09<14:36,  1.19it/s]"
     ]
    },
    {
     "name": "stdout",
     "output_type": "stream",
     "text": [
      "index 942 is out of bounds for axis 0 with size 855\n",
      "For name  Discoidin domain-containing receptor 2\n"
     ]
    },
    {
     "name": "stderr",
     "output_type": "stream",
     "text": [
      " 31%|███▏      | 471/1502 [02:12<08:21,  2.06it/s]"
     ]
    },
    {
     "name": "stdout",
     "output_type": "stream",
     "text": [
      "missing  DNA polymerase beta\n"
     ]
    },
    {
     "name": "stderr",
     "output_type": "stream",
     "text": [
      " 32%|███▏      | 474/1502 [02:13<06:31,  2.63it/s]"
     ]
    },
    {
     "name": "stdout",
     "output_type": "stream",
     "text": [
      "missing  DNA topoisomerase 1\n"
     ]
    },
    {
     "name": "stderr",
     "output_type": "stream",
     "text": [
      " 32%|███▏      | 478/1502 [02:14<05:57,  2.86it/s]"
     ]
    },
    {
     "name": "stdout",
     "output_type": "stream",
     "text": [
      "missing  Dopamine beta-hydroxylase\n"
     ]
    },
    {
     "name": "stderr",
     "output_type": "stream",
     "text": [
      " 32%|███▏      | 484/1502 [02:15<03:39,  4.64it/s]"
     ]
    },
    {
     "name": "stdout",
     "output_type": "stream",
     "text": [
      "index 671 is out of bounds for axis 0 with size 444\n",
      "For name  Dopamine D2 receptor and Serotonin 2a receptor (D2 and 5HT2a)\n"
     ]
    },
    {
     "name": "stderr",
     "output_type": "stream",
     "text": [
      " 32%|███▏      | 485/1502 [02:16<03:49,  4.43it/s]"
     ]
    },
    {
     "name": "stdout",
     "output_type": "stream",
     "text": [
      "index 757 is out of bounds for axis 0 with size 444\n",
      "For name  DRD2\n"
     ]
    },
    {
     "name": "stderr",
     "output_type": "stream",
     "text": [
      " 32%|███▏      | 488/1502 [02:16<03:12,  5.27it/s]"
     ]
    },
    {
     "name": "stdout",
     "output_type": "stream",
     "text": [
      "missing  Dual specificity phosphatase Cdc25B\n"
     ]
    },
    {
     "name": "stderr",
     "output_type": "stream",
     "text": [
      " 33%|███▎      | 490/1502 [02:17<03:36,  4.67it/s]"
     ]
    },
    {
     "name": "stdout",
     "output_type": "stream",
     "text": [
      "index 504 is out of bounds for axis 0 with size 499\n",
      "For name  Dual specificity protein kinase CLK2\n"
     ]
    },
    {
     "name": "stderr",
     "output_type": "stream",
     "text": [
      " 33%|███▎      | 492/1502 [02:17<03:54,  4.32it/s]"
     ]
    },
    {
     "name": "stdout",
     "output_type": "stream",
     "text": [
      "index 506 is out of bounds for axis 0 with size 481\n",
      "For name  Dual specificity protein kinase CLK4\n"
     ]
    },
    {
     "name": "stderr",
     "output_type": "stream",
     "text": [
      " 33%|███▎      | 497/1502 [02:19<03:45,  4.45it/s]"
     ]
    },
    {
     "name": "stdout",
     "output_type": "stream",
     "text": [
      "index 943 is out of bounds for axis 0 with size 857\n",
      "For name  Dual specificity protein kinase TTK\n"
     ]
    },
    {
     "name": "stderr",
     "output_type": "stream",
     "text": [
      " 34%|███▍      | 507/1502 [02:23<06:57,  2.38it/s]"
     ]
    },
    {
     "name": "stdout",
     "output_type": "stream",
     "text": [
      "index 711 is out of bounds for axis 0 with size 491\n",
      "For name  E3 ubiquitin-protein ligase Mdm2\n"
     ]
    },
    {
     "name": "stderr",
     "output_type": "stream",
     "text": [
      " 34%|███▍      | 514/1502 [02:25<06:12,  2.65it/s]"
     ]
    },
    {
     "name": "stdout",
     "output_type": "stream",
     "text": [
      "missing  Egl nine homolog 1\n"
     ]
    },
    {
     "name": "stderr",
     "output_type": "stream",
     "text": [
      " 34%|███▍      | 516/1502 [02:26<05:07,  3.20it/s]"
     ]
    },
    {
     "name": "stdout",
     "output_type": "stream",
     "text": [
      "index 434 is out of bounds for axis 0 with size 407\n",
      "For name  Egl nine homolog 2\n"
     ]
    },
    {
     "name": "stderr",
     "output_type": "stream",
     "text": [
      " 35%|███▌      | 531/1502 [02:27<02:26,  6.64it/s]"
     ]
    },
    {
     "name": "stdout",
     "output_type": "stream",
     "text": [
      "missing  Enoyl-ACP Reductase (FabI)\n"
     ]
    },
    {
     "name": "stderr",
     "output_type": "stream",
     "text": [
      " 36%|███▋      | 545/1502 [02:29<01:36,  9.87it/s]"
     ]
    },
    {
     "name": "stdout",
     "output_type": "stream",
     "text": [
      "missing  Estradiol 17-beta-dehydrogenase 1\n"
     ]
    },
    {
     "name": "stderr",
     "output_type": "stream",
     "text": [
      " 36%|███▋      | 548/1502 [02:30<03:06,  5.12it/s]"
     ]
    },
    {
     "name": "stdout",
     "output_type": "stream",
     "text": [
      "index 750 is out of bounds for axis 0 with size 530\n",
      "For name  Estradiol receptor beta (ER&#946;)\n",
      "index 728 is out of bounds for axis 0 with size 595\n",
      "For name  Estrogen receptor\n"
     ]
    },
    {
     "name": "stderr",
     "output_type": "stream",
     "text": [
      " 37%|███▋      | 560/1502 [02:33<03:24,  4.61it/s]"
     ]
    },
    {
     "name": "stdout",
     "output_type": "stream",
     "text": [
      "index 626 is out of bounds for axis 0 with size 524\n",
      "For name  Excitatory amino acid transporter 3\n"
     ]
    },
    {
     "name": "stderr",
     "output_type": "stream",
     "text": [
      " 37%|███▋      | 562/1502 [02:34<03:22,  4.65it/s]"
     ]
    },
    {
     "name": "stdout",
     "output_type": "stream",
     "text": [
      "index 1036 is out of bounds for axis 0 with size 746\n",
      "For name  EZH2(Y641F)\n"
     ]
    },
    {
     "name": "stderr",
     "output_type": "stream",
     "text": [
      " 38%|███▊      | 569/1502 [02:35<02:35,  5.98it/s]"
     ]
    },
    {
     "name": "stdout",
     "output_type": "stream",
     "text": [
      "index 136 is out of bounds for axis 0 with size 135\n",
      "For name  Fatty acid-binding protein 5 (FABP5)\n"
     ]
    },
    {
     "name": "stderr",
     "output_type": "stream",
     "text": [
      " 38%|███▊      | 573/1502 [02:40<10:48,  1.43it/s]"
     ]
    },
    {
     "name": "stdout",
     "output_type": "stream",
     "text": [
      "index 1027 is out of bounds for axis 0 with size 822\n",
      "For name  Fibroblast growth factor receptor 1\n"
     ]
    },
    {
     "name": "stderr",
     "output_type": "stream",
     "text": [
      " 38%|███▊      | 574/1502 [02:41<13:09,  1.18it/s]"
     ]
    },
    {
     "name": "stdout",
     "output_type": "stream",
     "text": [
      "index 930 is out of bounds for axis 0 with size 821\n",
      "For name  Fibroblast growth factor receptor 2\n"
     ]
    },
    {
     "name": "stderr",
     "output_type": "stream",
     "text": [
      " 38%|███▊      | 575/1502 [02:42<11:49,  1.31it/s]"
     ]
    },
    {
     "name": "stdout",
     "output_type": "stream",
     "text": [
      "index 883 is out of bounds for axis 0 with size 806\n",
      "For name  Fibroblast growth factor receptor 3\n"
     ]
    },
    {
     "name": "stderr",
     "output_type": "stream",
     "text": [
      " 38%|███▊      | 577/1502 [02:43<11:02,  1.40it/s]"
     ]
    },
    {
     "name": "stdout",
     "output_type": "stream",
     "text": [
      "index 828 is out of bounds for axis 0 with size 802\n",
      "For name  Fibroblast growth factor receptor 4\n"
     ]
    },
    {
     "name": "stderr",
     "output_type": "stream",
     "text": [
      " 41%|████▏     | 622/1502 [02:47<01:02, 14.07it/s]"
     ]
    },
    {
     "name": "stdout",
     "output_type": "stream",
     "text": [
      "missing  Glucagon-like peptide 1 receptor\n"
     ]
    },
    {
     "name": "stderr",
     "output_type": "stream",
     "text": [
      " 46%|████▋     | 695/1502 [02:57<00:40, 19.72it/s]"
     ]
    },
    {
     "name": "stdout",
     "output_type": "stream",
     "text": [
      "missing  Heat shock protein HSP 90-alpha\n"
     ]
    },
    {
     "name": "stderr",
     "output_type": "stream",
     "text": [
      " 48%|████▊     | 722/1502 [03:08<03:36,  3.60it/s]"
     ]
    },
    {
     "name": "stdout",
     "output_type": "stream",
     "text": [
      "index 188 is out of bounds for axis 0 with size 99\n",
      "For name  HIV-1 protease\n"
     ]
    },
    {
     "name": "stderr",
     "output_type": "stream",
     "text": [
      " 48%|████▊     | 723/1502 [03:09<05:27,  2.38it/s]"
     ]
    },
    {
     "name": "stdout",
     "output_type": "stream",
     "text": [
      "missing  HIV-1 protease\n"
     ]
    },
    {
     "name": "stderr",
     "output_type": "stream",
     "text": [
      " 49%|████▉     | 735/1502 [03:12<03:51,  3.32it/s]"
     ]
    },
    {
     "name": "stdout",
     "output_type": "stream",
     "text": [
      "index 1151 is out of bounds for axis 0 with size 288\n",
      "For name  Human immunodeficiency virus type 1 integrase\n"
     ]
    },
    {
     "name": "stderr",
     "output_type": "stream",
     "text": [
      " 49%|████▉     | 736/1502 [03:13<03:56,  3.24it/s]"
     ]
    },
    {
     "name": "stdout",
     "output_type": "stream",
     "text": [
      "index 126 is out of bounds for axis 0 with size 99\n",
      "For name  Human immunodeficiency virus type 1 protease\n"
     ]
    },
    {
     "name": "stderr",
     "output_type": "stream",
     "text": [
      " 49%|████▉     | 743/1502 [03:14<02:54,  4.36it/s]"
     ]
    },
    {
     "name": "stdout",
     "output_type": "stream",
     "text": [
      "index 434 is out of bounds for axis 0 with size 407\n",
      "For name  Hypoxia-inducible factor prolyl hydroxylase\n"
     ]
    },
    {
     "name": "stderr",
     "output_type": "stream",
     "text": [
      " 50%|█████     | 756/1502 [03:16<01:49,  6.80it/s]"
     ]
    },
    {
     "name": "stdout",
     "output_type": "stream",
     "text": [
      "index 369 is out of bounds for axis 0 with size 331\n",
      "For name  Induced myeloid leukemia cell differentiation protein Mcl-1 homolog\n"
     ]
    },
    {
     "name": "stderr",
     "output_type": "stream",
     "text": [
      " 50%|█████     | 757/1502 [03:16<02:21,  5.28it/s]"
     ]
    },
    {
     "name": "stdout",
     "output_type": "stream",
     "text": [
      "index 946 is out of bounds for axis 0 with size 745\n",
      "For name  Inhibitor of nuclear factor kappa-B kinase subunit alpha\n"
     ]
    },
    {
     "name": "stderr",
     "output_type": "stream",
     "text": [
      " 50%|█████     | 758/1502 [03:17<02:49,  4.38it/s]"
     ]
    },
    {
     "name": "stdout",
     "output_type": "stream",
     "text": [
      "missing  Inhibitor of nuclear factor kappa-B kinase subunit beta\n"
     ]
    },
    {
     "name": "stderr",
     "output_type": "stream",
     "text": [
      " 51%|█████     | 763/1502 [03:17<01:52,  6.55it/s]"
     ]
    },
    {
     "name": "stdout",
     "output_type": "stream",
     "text": [
      "missing  Integrase\n"
     ]
    },
    {
     "name": "stderr",
     "output_type": "stream",
     "text": [
      " 51%|█████     | 768/1502 [03:18<01:32,  7.93it/s]"
     ]
    },
    {
     "name": "stdout",
     "output_type": "stream",
     "text": [
      "index 918 is out of bounds for axis 0 with size 712\n",
      "For name  Interleukin-1 receptor-associated kinase 1\n"
     ]
    },
    {
     "name": "stderr",
     "output_type": "stream",
     "text": [
      " 53%|█████▎    | 794/1502 [03:24<02:32,  4.65it/s]"
     ]
    },
    {
     "name": "stdout",
     "output_type": "stream",
     "text": [
      "index 479 is out of bounds for axis 0 with size 293\n",
      "For name  Kallikrein 5\n"
     ]
    },
    {
     "name": "stderr",
     "output_type": "stream",
     "text": [
      " 55%|█████▍    | 824/1502 [03:31<02:17,  4.94it/s]"
     ]
    },
    {
     "name": "stdout",
     "output_type": "stream",
     "text": [
      "index 464 is out of bounds for axis 0 with size 464\n",
      "For name  Lipoamide Dehydrogenase (Lpd)\n",
      "index 719 is out of bounds for axis 0 with size 447\n",
      "For name  Liver X receptor (LXR alpha AND LXR beta)\n"
     ]
    },
    {
     "name": "stderr",
     "output_type": "stream",
     "text": [
      " 56%|█████▌    | 838/1502 [03:32<01:25,  7.80it/s]"
     ]
    },
    {
     "name": "stdout",
     "output_type": "stream",
     "text": [
      "missing  Lysine-specific histone demethylase 1A\n"
     ]
    },
    {
     "name": "stderr",
     "output_type": "stream",
     "text": [
      " 57%|█████▋    | 852/1502 [03:33<00:54, 11.88it/s]"
     ]
    },
    {
     "name": "stdout",
     "output_type": "stream",
     "text": [
      "index 597 is out of bounds for axis 0 with size 334\n",
      "For name  Malate dehydrogenase cytoplasmic\n",
      "index 1061 is out of bounds for axis 0 with size 334\n",
      "For name  Malate dehydrogenase cytoplasmic\n"
     ]
    },
    {
     "name": "stderr",
     "output_type": "stream",
     "text": [
      " 57%|█████▋    | 854/1502 [03:33<00:58, 11.07it/s]"
     ]
    },
    {
     "name": "stdout",
     "output_type": "stream",
     "text": [
      "index 370 is out of bounds for axis 0 with size 338\n",
      "For name  Malate Dehydrogenase, mitochondrial\n"
     ]
    },
    {
     "name": "stderr",
     "output_type": "stream",
     "text": [
      " 58%|█████▊    | 869/1502 [03:36<01:13,  8.64it/s]"
     ]
    },
    {
     "name": "stdout",
     "output_type": "stream",
     "text": [
      "index 508 is out of bounds for axis 0 with size 471\n",
      "For name  Matrix metalloproteinase (1 and 13)\n"
     ]
    },
    {
     "name": "stderr",
     "output_type": "stream",
     "text": [
      " 58%|█████▊    | 870/1502 [03:36<01:23,  7.57it/s]"
     ]
    },
    {
     "name": "stdout",
     "output_type": "stream",
     "text": [
      "index 690 is out of bounds for axis 0 with size 477\n",
      "For name  Matrix metalloproteinase (2 and 3)\n"
     ]
    },
    {
     "name": "stderr",
     "output_type": "stream",
     "text": [
      " 58%|█████▊    | 875/1502 [03:36<01:26,  7.22it/s]"
     ]
    },
    {
     "name": "stdout",
     "output_type": "stream",
     "text": [
      "index 582 is out of bounds for axis 0 with size 470\n",
      "For name  Matrix metalloproteinase-12 (MMP12)\n"
     ]
    },
    {
     "name": "stderr",
     "output_type": "stream",
     "text": [
      " 58%|█████▊    | 877/1502 [03:37<02:10,  4.78it/s]"
     ]
    },
    {
     "name": "stdout",
     "output_type": "stream",
     "text": [
      "index 941 is out of bounds for axis 0 with size 267\n",
      "For name  Matrix metalloproteinase-7 (MMP7)\n"
     ]
    },
    {
     "name": "stderr",
     "output_type": "stream",
     "text": [
      " 58%|█████▊    | 878/1502 [03:38<02:32,  4.08it/s]"
     ]
    },
    {
     "name": "stdout",
     "output_type": "stream",
     "text": [
      "index 514 is out of bounds for axis 0 with size 467\n",
      "For name  Matrix Metalloproteinase-8 (MMP-8)\n"
     ]
    },
    {
     "name": "stderr",
     "output_type": "stream",
     "text": [
      " 59%|█████▊    | 882/1502 [03:40<03:39,  2.83it/s]"
     ]
    },
    {
     "name": "stdout",
     "output_type": "stream",
     "text": [
      "index 418 is out of bounds for axis 0 with size 350\n",
      "For name  MCL1-BAK1 complex\n"
     ]
    },
    {
     "name": "stderr",
     "output_type": "stream",
     "text": [
      " 59%|█████▉    | 892/1502 [03:41<01:17,  7.84it/s]"
     ]
    },
    {
     "name": "stdout",
     "output_type": "stream",
     "text": [
      "index 351 is out of bounds for axis 0 with size 332\n",
      "For name  Melanocortin receptor 4\n"
     ]
    },
    {
     "name": "stderr",
     "output_type": "stream",
     "text": [
      " 61%|██████▏   | 922/1502 [03:49<01:49,  5.31it/s]"
     ]
    },
    {
     "name": "stdout",
     "output_type": "stream",
     "text": [
      "index 2009 is out of bounds for axis 0 with size 606\n",
      "For name  Mitogen-activated protein kinase kinase kinase 7\n"
     ]
    },
    {
     "name": "stderr",
     "output_type": "stream",
     "text": [
      " 61%|██████▏   | 923/1502 [03:50<01:59,  4.83it/s]"
     ]
    },
    {
     "name": "stdout",
     "output_type": "stream",
     "text": [
      "index 2009 is out of bounds for axis 0 with size 606\n",
      "For name  Mitogen-activated protein kinase kinase kinase 7 interacting protein 1\n"
     ]
    },
    {
     "name": "stderr",
     "output_type": "stream",
     "text": [
      " 65%|██████▍   | 970/1502 [03:58<01:05,  8.07it/s]"
     ]
    },
    {
     "name": "stdout",
     "output_type": "stream",
     "text": [
      "index 408 is out of bounds for axis 0 with size 351\n",
      "For name  N-formyl peptide receptor 2\n"
     ]
    },
    {
     "name": "stderr",
     "output_type": "stream",
     "text": [
      " 65%|██████▌   | 983/1502 [04:02<02:03,  4.20it/s]"
     ]
    },
    {
     "name": "stdout",
     "output_type": "stream",
     "text": [
      "missing  Neprilysin\n"
     ]
    },
    {
     "name": "stderr",
     "output_type": "stream",
     "text": [
      " 67%|██████▋   | 999/1502 [04:11<02:13,  3.78it/s]"
     ]
    },
    {
     "name": "stdout",
     "output_type": "stream",
     "text": [
      "index 391 is out of bounds for axis 0 with size 384\n",
      "For name  Neuropeptide Y receptor type 1\n"
     ]
    },
    {
     "name": "stderr",
     "output_type": "stream",
     "text": [
      " 67%|██████▋   | 1005/1502 [04:12<01:28,  5.61it/s]"
     ]
    },
    {
     "name": "stdout",
     "output_type": "stream",
     "text": [
      "index 986 is out of bounds for axis 0 with size 822\n",
      "For name  Neurotrophic tyrosine kinase receptor\n",
      "index 965 is out of bounds for axis 0 with size 839\n",
      "For name  Neurotrophic tyrosine kinase receptor\n"
     ]
    },
    {
     "name": "stderr",
     "output_type": "stream",
     "text": [
      " 68%|██████▊   | 1026/1502 [04:16<01:12,  6.57it/s]"
     ]
    },
    {
     "name": "stdout",
     "output_type": "stream",
     "text": [
      "missing  Nuclear receptor ROR-beta\n"
     ]
    },
    {
     "name": "stderr",
     "output_type": "stream",
     "text": [
      " 69%|██████▉   | 1033/1502 [04:17<00:50,  9.36it/s]"
     ]
    },
    {
     "name": "stdout",
     "output_type": "stream",
     "text": [
      "index 406 is out of bounds for axis 0 with size 372\n",
      "For name  Opioid receptors; mu & delta\n"
     ]
    },
    {
     "name": "stderr",
     "output_type": "stream",
     "text": [
      " 69%|██████▉   | 1039/1502 [04:22<02:53,  2.66it/s]"
     ]
    },
    {
     "name": "stdout",
     "output_type": "stream",
     "text": [
      "index 424 is out of bounds for axis 0 with size 389\n",
      "For name  Oxytocin receptor\n"
     ]
    },
    {
     "name": "stderr",
     "output_type": "stream",
     "text": [
      " 70%|███████   | 1055/1502 [04:25<01:29,  4.98it/s]"
     ]
    },
    {
     "name": "stdout",
     "output_type": "stream",
     "text": [
      "missing  Pancreatic alpha-amylase\n"
     ]
    },
    {
     "name": "stderr",
     "output_type": "stream",
     "text": [
      " 70%|███████   | 1056/1502 [04:25<01:46,  4.17it/s]"
     ]
    },
    {
     "name": "stdout",
     "output_type": "stream",
     "text": [
      "index 504 is out of bounds for axis 0 with size 269\n",
      "For name  Pancreatic elastase\n"
     ]
    },
    {
     "name": "stderr",
     "output_type": "stream",
     "text": [
      " 71%|███████   | 1069/1502 [04:27<01:06,  6.56it/s]"
     ]
    },
    {
     "name": "stdout",
     "output_type": "stream",
     "text": [
      "index 152 is out of bounds for axis 0 with size 150\n",
      "For name  Peptide deformylase\n"
     ]
    },
    {
     "name": "stderr",
     "output_type": "stream",
     "text": [
      " 72%|███████▏  | 1085/1502 [04:33<02:36,  2.66it/s]"
     ]
    },
    {
     "name": "stdout",
     "output_type": "stream",
     "text": [
      "index 926 is out of bounds for axis 0 with size 728\n",
      "For name  Phosphatidylinositol 3-kinase regulatory subunit beta\n"
     ]
    },
    {
     "name": "stderr",
     "output_type": "stream",
     "text": [
      " 73%|███████▎  | 1094/1502 [04:35<01:35,  4.26it/s]"
     ]
    },
    {
     "name": "stdout",
     "output_type": "stream",
     "text": [
      "missing  Phosphodiesterase 1\n"
     ]
    },
    {
     "name": "stderr",
     "output_type": "stream",
     "text": [
      " 73%|███████▎  | 1100/1502 [04:37<02:00,  3.34it/s]"
     ]
    },
    {
     "name": "stdout",
     "output_type": "stream",
     "text": [
      "missing  Phosphodiesterase 4A\n"
     ]
    },
    {
     "name": "stderr",
     "output_type": "stream",
     "text": [
      " 74%|███████▎  | 1104/1502 [04:38<02:21,  2.81it/s]"
     ]
    },
    {
     "name": "stdout",
     "output_type": "stream",
     "text": [
      "missing  Phosphodiesterase 5A\n"
     ]
    },
    {
     "name": "stderr",
     "output_type": "stream",
     "text": [
      " 74%|███████▍  | 1113/1502 [04:42<02:24,  2.69it/s]"
     ]
    },
    {
     "name": "stdout",
     "output_type": "stream",
     "text": [
      "index 988 is out of bounds for axis 0 with size 724\n",
      "For name  Phosphoinositide 3-Kinase (PI3K), delta\n"
     ]
    },
    {
     "name": "stderr",
     "output_type": "stream",
     "text": [
      " 74%|███████▍  | 1114/1502 [04:42<02:39,  2.44it/s]"
     ]
    },
    {
     "name": "stdout",
     "output_type": "stream",
     "text": [
      "index 160 is out of bounds for axis 0 with size 148\n",
      "For name  Phospholipase A2\n"
     ]
    },
    {
     "name": "stderr",
     "output_type": "stream",
     "text": [
      " 75%|███████▍  | 1125/1502 [04:45<02:00,  3.13it/s]"
     ]
    },
    {
     "name": "stdout",
     "output_type": "stream",
     "text": [
      "missing  Plasma kallikrein\n"
     ]
    },
    {
     "name": "stderr",
     "output_type": "stream",
     "text": [
      " 76%|███████▌  | 1144/1502 [04:48<00:55,  6.42it/s]"
     ]
    },
    {
     "name": "stdout",
     "output_type": "stream",
     "text": [
      "index 493 is out of bounds for axis 0 with size 253\n",
      "For name  Prion protein\n"
     ]
    },
    {
     "name": "stderr",
     "output_type": "stream",
     "text": [
      " 78%|███████▊  | 1169/1502 [04:52<00:38,  8.57it/s]"
     ]
    },
    {
     "name": "stdout",
     "output_type": "stream",
     "text": [
      "missing  Protease\n"
     ]
    },
    {
     "name": "stderr",
     "output_type": "stream",
     "text": [
      " 78%|███████▊  | 1172/1502 [04:53<01:04,  5.16it/s]"
     ]
    },
    {
     "name": "stdout",
     "output_type": "stream",
     "text": [
      "index 1038 is out of bounds for axis 0 with size 201\n",
      "For name  Proteasome Macropain subunit\n"
     ]
    },
    {
     "name": "stderr",
     "output_type": "stream",
     "text": [
      " 78%|███████▊  | 1176/1502 [04:54<01:01,  5.31it/s]"
     ]
    },
    {
     "name": "stdout",
     "output_type": "stream",
     "text": [
      "index 621 is out of bounds for axis 0 with size 531\n",
      "For name  Protein arginine methyltransferase 3 (PRMT3)\n"
     ]
    },
    {
     "name": "stderr",
     "output_type": "stream",
     "text": [
      " 78%|███████▊  | 1177/1502 [04:54<01:21,  3.97it/s]"
     ]
    },
    {
     "name": "stdout",
     "output_type": "stream",
     "text": [
      "index 621 is out of bounds for axis 0 with size 531\n",
      "For name  Protein arginine N-methyltransferase 3\n"
     ]
    },
    {
     "name": "stderr",
     "output_type": "stream",
     "text": [
      " 79%|███████▊  | 1182/1502 [04:55<01:04,  4.93it/s]"
     ]
    },
    {
     "name": "stdout",
     "output_type": "stream",
     "text": [
      "missing  Protein Farnesyltransferase (PFT)\n"
     ]
    },
    {
     "name": "stderr",
     "output_type": "stream",
     "text": [
      " 80%|███████▉  | 1195/1502 [04:58<01:05,  4.70it/s]"
     ]
    },
    {
     "name": "stdout",
     "output_type": "stream",
     "text": [
      "index 745 is out of bounds for axis 0 with size 697\n",
      "For name  Protein kinase C, gamma\n"
     ]
    },
    {
     "name": "stderr",
     "output_type": "stream",
     "text": [
      " 80%|████████  | 1209/1502 [05:00<00:39,  7.40it/s]"
     ]
    },
    {
     "name": "stdout",
     "output_type": "stream",
     "text": [
      "index 243 is out of bounds for axis 0 with size 173\n",
      "For name  Protein-tyrosine phosphatase 4A3\n",
      "missing  Proto-oncogene tyrosine-protein kinase Src\n"
     ]
    },
    {
     "name": "stderr",
     "output_type": "stream",
     "text": [
      " 83%|████████▎ | 1249/1502 [05:06<00:37,  6.68it/s]"
     ]
    },
    {
     "name": "stdout",
     "output_type": "stream",
     "text": [
      "index 268 is out of bounds for axis 0 with size 259\n",
      "For name  Reverse transcriptase\n"
     ]
    },
    {
     "name": "stderr",
     "output_type": "stream",
     "text": [
      " 83%|████████▎ | 1253/1502 [05:06<00:37,  6.64it/s]"
     ]
    },
    {
     "name": "stdout",
     "output_type": "stream",
     "text": [
      "missing  Ribosomal protein S6 kinase (P70S6K)\n"
     ]
    },
    {
     "name": "stderr",
     "output_type": "stream",
     "text": [
      " 84%|████████▍ | 1258/1502 [05:07<00:41,  5.83it/s]"
     ]
    },
    {
     "name": "stdout",
     "output_type": "stream",
     "text": [
      "index 887 is out of bounds for axis 0 with size 740\n",
      "For name  Ribosomal protein S6 kinase alpha-3\n"
     ]
    },
    {
     "name": "stderr",
     "output_type": "stream",
     "text": [
      " 85%|████████▍ | 1270/1502 [05:09<00:38,  6.08it/s]"
     ]
    },
    {
     "name": "stdout",
     "output_type": "stream",
     "text": [
      "missing  Selectin E\n"
     ]
    },
    {
     "name": "stderr",
     "output_type": "stream",
     "text": [
      " 85%|████████▍ | 1275/1502 [05:09<00:22,  9.96it/s]"
     ]
    },
    {
     "name": "stdout",
     "output_type": "stream",
     "text": [
      "missing  Serotonin (5-HT) receptor\n"
     ]
    },
    {
     "name": "stderr",
     "output_type": "stream",
     "text": [
      " 85%|████████▌ | 1277/1502 [05:11<01:21,  2.75it/s]"
     ]
    },
    {
     "name": "stdout",
     "output_type": "stream",
     "text": [
      "missing  Serotonin (5-HT) receptor\n"
     ]
    },
    {
     "name": "stderr",
     "output_type": "stream",
     "text": [
      " 86%|████████▌ | 1286/1502 [05:13<00:46,  4.60it/s]"
     ]
    },
    {
     "name": "stdout",
     "output_type": "stream",
     "text": [
      "missing  Sialidase\n"
     ]
    },
    {
     "name": "stderr",
     "output_type": "stream",
     "text": [
      " 88%|████████▊ | 1316/1502 [05:18<00:35,  5.28it/s]"
     ]
    },
    {
     "name": "stdout",
     "output_type": "stream",
     "text": [
      "missing  Sorbitol dehydrogenase\n"
     ]
    },
    {
     "name": "stderr",
     "output_type": "stream",
     "text": [
      " 88%|████████▊ | 1319/1502 [05:19<00:35,  5.18it/s]"
     ]
    },
    {
     "name": "stdout",
     "output_type": "stream",
     "text": [
      "missing  Sphingosine 1-phosphate receptor\n"
     ]
    },
    {
     "name": "stderr",
     "output_type": "stream",
     "text": [
      " 89%|████████▊ | 1332/1502 [05:20<00:18,  9.38it/s]"
     ]
    },
    {
     "name": "stdout",
     "output_type": "stream",
     "text": [
      "missing  SRC\n"
     ]
    },
    {
     "name": "stderr",
     "output_type": "stream",
     "text": [
      " 89%|████████▉ | 1342/1502 [05:21<00:18,  8.70it/s]"
     ]
    },
    {
     "name": "stdout",
     "output_type": "stream",
     "text": [
      "index 690 is out of bounds for axis 0 with size 477\n",
      "For name  Stromelysin-1\n"
     ]
    },
    {
     "name": "stderr",
     "output_type": "stream",
     "text": [
      " 90%|████████▉ | 1347/1502 [05:22<00:18,  8.36it/s]"
     ]
    },
    {
     "name": "stdout",
     "output_type": "stream",
     "text": [
      "index 693 is out of bounds for axis 0 with size 640\n",
      "For name  SUMO-activating enzyme subunit 2 (SAE2)\n"
     ]
    },
    {
     "name": "stderr",
     "output_type": "stream",
     "text": [
      " 91%|█████████ | 1369/1502 [05:24<00:11, 11.27it/s]"
     ]
    },
    {
     "name": "stdout",
     "output_type": "stream",
     "text": [
      "index 773 is out of bounds for axis 0 with size 625\n",
      "For name  Thrombin\n",
      "index 629 is out of bounds for axis 0 with size 622\n",
      "For name  Thrombin and coagulation factor X\n"
     ]
    },
    {
     "name": "stderr",
     "output_type": "stream",
     "text": [
      " 91%|█████████▏| 1371/1502 [05:27<00:43,  3.04it/s]"
     ]
    },
    {
     "name": "stdout",
     "output_type": "stream",
     "text": [
      "index 512 is out of bounds for axis 0 with size 488\n",
      "For name  Thrombin and coagulation factor X\n",
      "missing  Thymidine kinase\n"
     ]
    },
    {
     "name": "stderr",
     "output_type": "stream",
     "text": [
      " 92%|█████████▏| 1377/1502 [05:29<00:40,  3.07it/s]"
     ]
    },
    {
     "name": "stdout",
     "output_type": "stream",
     "text": [
      "missing  Thymidine kinase\n"
     ]
    },
    {
     "name": "stderr",
     "output_type": "stream",
     "text": [
      " 92%|█████████▏| 1379/1502 [05:30<00:57,  2.13it/s]"
     ]
    },
    {
     "name": "stdout",
     "output_type": "stream",
     "text": [
      "missing  Thymidylate synthase\n"
     ]
    },
    {
     "name": "stderr",
     "output_type": "stream",
     "text": [
      " 93%|█████████▎| 1396/1502 [05:33<00:12,  8.69it/s]"
     ]
    },
    {
     "name": "stdout",
     "output_type": "stream",
     "text": [
      "index 719 is out of bounds for axis 0 with size 562\n",
      "For name  Tissue-type plasminogen activator\n"
     ]
    },
    {
     "name": "stderr",
     "output_type": "stream",
     "text": [
      " 94%|█████████▍| 1410/1502 [05:35<00:11,  8.24it/s]"
     ]
    },
    {
     "name": "stdout",
     "output_type": "stream",
     "text": [
      "index 440 is out of bounds for axis 0 with size 246\n",
      "For name  Trypsin\n",
      "missing  Trypsin\n"
     ]
    },
    {
     "name": "stderr",
     "output_type": "stream",
     "text": [
      " 94%|█████████▍| 1414/1502 [05:37<00:19,  4.43it/s]"
     ]
    },
    {
     "name": "stdout",
     "output_type": "stream",
     "text": [
      "index 1248 is out of bounds for axis 0 with size 247\n",
      "For name  Trypsin-1\n"
     ]
    },
    {
     "name": "stderr",
     "output_type": "stream",
     "text": [
      " 94%|█████████▍| 1418/1502 [05:37<00:17,  4.79it/s]"
     ]
    },
    {
     "name": "stdout",
     "output_type": "stream",
     "text": [
      "missing  Tryptophan 5-hydroxylase 2\n"
     ]
    },
    {
     "name": "stderr",
     "output_type": "stream",
     "text": [
      " 95%|█████████▌| 1434/1502 [05:44<00:38,  1.77it/s]"
     ]
    },
    {
     "name": "stdout",
     "output_type": "stream",
     "text": [
      "missing  Tyrosine-protein kinase BTK\n"
     ]
    },
    {
     "name": "stderr",
     "output_type": "stream",
     "text": [
      " 96%|█████████▌| 1436/1502 [05:44<00:33,  1.94it/s]"
     ]
    },
    {
     "name": "stdout",
     "output_type": "stream",
     "text": [
      "index 460 is out of bounds for axis 0 with size 450\n",
      "For name  Tyrosine-protein kinase CSK\n"
     ]
    },
    {
     "name": "stderr",
     "output_type": "stream",
     "text": [
      " 96%|█████████▌| 1443/1502 [05:46<00:18,  3.22it/s]"
     ]
    },
    {
     "name": "stdout",
     "output_type": "stream",
     "text": [
      "missing  Tyrosine-protein kinase JAK2\n"
     ]
    },
    {
     "name": "stderr",
     "output_type": "stream",
     "text": [
      " 96%|█████████▋| 1449/1502 [05:49<00:22,  2.39it/s]"
     ]
    },
    {
     "name": "stdout",
     "output_type": "stream",
     "text": [
      "index 1010 is out of bounds for axis 0 with size 999\n",
      "For name  Tyrosine-protein kinase Mer\n"
     ]
    },
    {
     "name": "stderr",
     "output_type": "stream",
     "text": [
      " 97%|█████████▋| 1450/1502 [05:51<00:35,  1.47it/s]"
     ]
    },
    {
     "name": "stdout",
     "output_type": "stream",
     "text": [
      "index 1008 is out of bounds for axis 0 with size 993\n",
      "For name  Tyrosine-protein kinase receptor FLT3\n"
     ]
    },
    {
     "name": "stderr",
     "output_type": "stream",
     "text": [
      " 97%|█████████▋| 1452/1502 [05:52<00:31,  1.61it/s]"
     ]
    },
    {
     "name": "stdout",
     "output_type": "stream",
     "text": [
      "index 906 is out of bounds for axis 0 with size 890\n",
      "For name  Tyrosine-protein kinase receptor TYRO3\n"
     ]
    },
    {
     "name": "stderr",
     "output_type": "stream",
     "text": [
      " 97%|█████████▋| 1453/1502 [05:53<00:35,  1.38it/s]"
     ]
    },
    {
     "name": "stdout",
     "output_type": "stream",
     "text": [
      "index 909 is out of bounds for axis 0 with size 894\n",
      "For name  Tyrosine-protein kinase receptor UFO\n"
     ]
    },
    {
     "name": "stderr",
     "output_type": "stream",
     "text": [
      " 97%|█████████▋| 1461/1502 [05:55<00:12,  3.16it/s]"
     ]
    },
    {
     "name": "stdout",
     "output_type": "stream",
     "text": [
      "missing  Tyrosine-protein phosphatase non-receptor type 11\n"
     ]
    },
    {
     "name": "stderr",
     "output_type": "stream",
     "text": [
      " 99%|█████████▉| 1488/1502 [06:00<00:02,  4.93it/s]"
     ]
    },
    {
     "name": "stdout",
     "output_type": "stream",
     "text": [
      "missing  Vasopressin receptor\n"
     ]
    },
    {
     "name": "stderr",
     "output_type": "stream",
     "text": [
      "100%|██████████| 1502/1502 [06:03<00:00,  4.13it/s]\n"
     ]
    }
   ],
   "source": [
    "from sklearn.metrics import confusion_matrix\n",
    "import warnings\n",
    "warnings.filterwarnings(\"ignore\", category=RuntimeWarning)\n",
    "all_results = []\n",
    "all_random_results = []\n",
    "all_random_30_results = []\n",
    "all_pred_results = []\n",
    "all_tn_30 = []\n",
    "all_fp_30 = []\n",
    "all_fn_30 = []\n",
    "all_tp_30 = []\n",
    "all_tn = []\n",
    "all_fp = []\n",
    "all_fn = []\n",
    "all_tp = []\n",
    "top_attention_scores = 5\n",
    "saved_alignments = pickle.load(open(f'data/alignments/{input_name}.pt','rb')) # for every name this has a list of aligned proteins\n",
    "for name, pearsonR in tqdm(list(zip(names, pearsonRs))):\n",
    "    if pearsonR < 0.82: continue\n",
    "\n",
    "    attention_weights_name = os.path.join('data',input_name, name, 'default/version_0/attn_weights_test_head_0.csv')\n",
    "    if not os.path.exists(attention_weights_name):\n",
    "        attention_weights_name = os.path.join('data',input_name, name, 'FLAP/default/version_0/attn_weights_test_head_0.csv')\n",
    "\n",
    "    csv_input = pd.read_csv(attention_weights_name)\n",
    "    csv_input = csv_input.sort_values(by=['preds-0'], ascending=False)\n",
    "    #csv_input = csv_input.drop(csv_input.index[range(10,len(csv_input))])\n",
    "    query_sequences = list(set(csv_input['proteins_seq'].tolist()))\n",
    "\n",
    "    for query_idx, query_sequence in enumerate(query_sequences):\n",
    "        try:\n",
    "            seq_info = binding_db.loc[binding_db['BindingDB Target Chain  Sequence'] == query_sequence]\n",
    "            complex_ids_repeated = seq_info['PDB ID(s) for Ligand-Target Complex'].dropna().tolist()\n",
    "            complex_ids = list(set([pdbid for repeated in complex_ids_repeated for pdbid in str(repeated).split(',')]))\n",
    "            if complex_ids == []: continue\n",
    "            target_ids_repeated = seq_info['PDB ID(s) of Target Chain'].dropna().tolist()\n",
    "            target_ids = list(set([pdbid for repeated in target_ids_repeated for pdbid in str(repeated).split(',')]))\n",
    "            comp_and_target_ids = list(set(complex_ids) | set(target_ids))\n",
    "            has_target = anno.loc[anno['PDBID'].isin(comp_and_target_ids)]\n",
    "            has_target_by_sequence = anno.loc[anno['sequence'].isin(query_sequences)]\n",
    "            sequences = has_target['sequence'].tolist()\n",
    "\n",
    "            if name + 'query_idx' + str(query_idx) not in saved_alignments.keys():\n",
    "                print('missing ', name)\n",
    "                continue\n",
    "            all_alignments = saved_alignments[name + 'query_idx' + str(query_idx)]\n",
    "            if all_alignments == []: continue\n",
    "\n",
    "            scores = [alignment['score'] for alignment in all_alignments]\n",
    "            top3_misalginment_scores = sorted(list(set(-np.array(scores) + len(query_sequence))))[:3]\n",
    "            misaligned_allowance = top3_misalginment_scores[-1]\n",
    "\n",
    "            alignment_ratio = 0.01  # This is the percentage of a sequence that needs to be aligned to the original sequence to include its binding sites\n",
    "\n",
    "            row = csv_input.loc[csv_input['proteins_seq'] == query_sequence]\n",
    "            random_results = []\n",
    "            pred_results=[]\n",
    "            random30_results = []\n",
    "            results= []\n",
    "            most_tn_30 = []\n",
    "            most_fp_30 = []\n",
    "            most_fn_30 = []\n",
    "            most_tp_30 = []\n",
    "            most_tn = []\n",
    "            most_fp = []\n",
    "            most_fn = []\n",
    "            most_tp = []\n",
    "\n",
    "            attention = np.array(row.values.tolist())\n",
    "            attention = attention[:, 7:len(query_sequence) + 7].astype(float)[:top_attention_scores]\n",
    "            attention_mean = attention.mean(axis=0)\n",
    "            attention_mean = attention_mean / attention_mean.max()\n",
    "            top_prediction_idx = attention_mean.argsort()[-3:][::-1]\n",
    "            top_predictions = np.zeros_like(attention_mean)\n",
    "            top_predictions[np.array(top_prediction_idx)] = 1\n",
    "\n",
    "            repeats = int(np.ceil(attention.shape[0] / 30))\n",
    "            is_binding_site = binding_site_annotation(all_alignments, has_target_frame=has_target,\n",
    "                                                      input_sequence=query_sequence, misaligned_allowance=misaligned_allowance)\n",
    "\n",
    "            rand_tpr3 = 0\n",
    "            n_rand = 30\n",
    "            random_30 = []\n",
    "            tn_30 = []\n",
    "            fp_30 = []\n",
    "            fn_30 = []\n",
    "            tp_30 = []\n",
    "            for i in range(n_rand):\n",
    "                random_int_idx = np.random.randint(0, len(is_binding_site), size=3)\n",
    "                random_int = np.zeros_like(is_binding_site)\n",
    "                random_int[random_int_idx] = 1\n",
    "                random_int_dist3 = realign(random_int,is_binding_site.astype(int), dist=3)\n",
    "                random_int_dist3[random_int_dist3 < 0.01] = 0\n",
    "                true_pos_random3 = precision_score(is_binding_site.astype(int), random_int_dist3.astype(int))\n",
    "                rand_tpr3 += true_pos_random3\n",
    "                tn, fp, fn, tp = confusion_matrix(is_binding_site.astype(int), random_int_dist3.astype(int)).ravel()\n",
    "                tn_30.append(tn)\n",
    "                fp_30.append(fp)\n",
    "                fn_30.append(fn)\n",
    "                tp_30.append(tp)\n",
    "            rand_tpr3 = rand_tpr3/n_rand\n",
    "            #continuous_preds_dist1 = realign(attention_mean,is_binding_site.astype(int), dist=1)\n",
    "            #continuous_preds_dist2 = realign(attention_mean,is_binding_site.astype(int), dist=2)\n",
    "            #continuous_preds_dist3 = realign(attention_mean,is_binding_site.astype(int), dist=3)\n",
    "            #preds_dist1 = realign(top_predictions,is_binding_site.astype(int), dist=1)\n",
    "            #preds_dist2 = realign(top_predictions,is_binding_site.astype(int), dist=2)\n",
    "            preds_dist3 = realign(top_predictions,is_binding_site.astype(int), dist=3)\n",
    "            #random_int_dist1 = realign(random_int,is_binding_site.astype(int), dist=1)\n",
    "            #random_int_dist2 = realign(random_int,is_binding_site.astype(int), dist=2)\n",
    "\n",
    "            #continuous_random = np.random.rand(len(attention_mean))\n",
    "            #continuous_random = continuous_random/continuous_random.max()\n",
    "            #random_cont_dist1 = realign(continuous_random,is_binding_site.astype(int), dist=1)\n",
    "            #random_cont_dist2 = realign(continuous_random,is_binding_site.astype(int), dist=2)\n",
    "            #random_cont_dist3 = realign(continuous_random,is_binding_site.astype(int), dist=3)\n",
    "            true_pos_rate = precision_score(is_binding_site.astype(int), top_predictions.astype(int))\n",
    "            tn, fp, fn, tp = confusion_matrix(is_binding_site.astype(int), preds_dist3.astype(int)).ravel()\n",
    "\n",
    "            #true_pos_rate1 = precision_score(is_binding_site.astype(int), preds_dist1.astype(int))\n",
    "            #true_pos_rate2 = precision_score(is_binding_site.astype(int), preds_dist2.astype(int))\n",
    "            true_pos_rate3 = precision_score(is_binding_site.astype(int), preds_dist3.astype(int))\n",
    "            #true_pos_random1 = precision_score(is_binding_site.astype(int), random_int_dist1.astype(int))\n",
    "            #true_pos_random2 = precision_score(is_binding_site.astype(int), random_int_dist2.astype(int))\n",
    "            random30_results.append(random_30)\n",
    "            random_results.append(rand_tpr3)\n",
    "            pred_results.append(true_pos_rate3)\n",
    "            results.append(true_pos_rate3 - rand_tpr3)\n",
    "\n",
    "            all_tn_30.append(tn_30)\n",
    "            all_fp_30.append(fp_30)\n",
    "            all_fn_30.append(fn_30)\n",
    "            all_tp_30.append(tp_30)\n",
    "            all_tn.append(tn)\n",
    "            all_fp.append(fp)\n",
    "            all_fn.append(fn)\n",
    "            all_tp.append(tp)\n",
    "            all_results.append(results)\n",
    "            all_random_30_results.append(random30_results)\n",
    "            all_pred_results.append(pred_results)\n",
    "            all_random_results.append(random_results)\n",
    "        except Exception as e:\n",
    "            print(e)\n",
    "            print('For name ', name)\n",
    "\n"
   ],
   "metadata": {
    "collapsed": false,
    "pycharm": {
     "name": "#%%\n"
    }
   }
  },
  {
   "cell_type": "code",
   "execution_count": 16,
   "outputs": [
    {
     "name": "stdout",
     "output_type": "stream",
     "text": [
      "499\n",
      "confusion predictions:\n",
      "[[  1.5271   2.2926]\n",
      " [ 33.3487 456.3908]]\n",
      "confusion random\n",
      "[[  1.5625   2.315 ]\n",
      " [ 33.3133 456.3684]]\n"
     ]
    },
    {
     "name": "stderr",
     "output_type": "stream",
     "text": [
      "C:\\Users\\HannesStark\\Anaconda3\\envs\\equibind\\lib\\site-packages\\seaborn\\distributions.py:2619: FutureWarning: `distplot` is a deprecated function and will be removed in a future version. Please adapt your code to use either `displot` (a figure-level function with similar flexibility) or `histplot` (an axes-level function for histograms).\n",
      "  warnings.warn(msg, FutureWarning)\n"
     ]
    },
    {
     "data": {
      "text/plain": "Text(0, 0.5, 'Density')"
     },
     "execution_count": 16,
     "metadata": {},
     "output_type": "execute_result"
    },
    {
     "data": {
      "text/plain": "<Figure size 1800x1200 with 1 Axes>",
      "image/png": "[encoded data removed]"
     },
     "metadata": {},
     "output_type": "display_data"
    }
   ],
   "source": [
    "print(len(all_results))\n",
    "all_scores_np = np.array(all_results)\n",
    "all_pred = np.array(all_pred_results)\n",
    "all_random = np.array(all_random_results)\n",
    "all_random_30 = np.array(all_random_30_results)\n",
    "all_tn_30_np = np.array(all_tn_30)\n",
    "all_fp_30_np = np.array(all_fp_30)\n",
    "\n",
    "all_fn_30_np = np.array(all_fn_30)\n",
    "all_tp_30_np = np.array(all_tp_30)\n",
    "all_tn_np = np.array(all_tn)\n",
    "all_fp_np = np.array(all_fp)\n",
    "all_fn_np = np.array(all_fn)\n",
    "all_tp_np = np.array(all_tp)\n",
    "\n",
    "\n",
    "\n",
    "np.set_printoptions(suppress=True)\n",
    "print('confusion predictions:')\n",
    "print(np.round(np.array([[all_tp_np.mean(), all_fp_np.mean()],\n",
    "       [all_fn_np.mean(), all_tn_np.mean()]]),4))\n",
    "\n",
    "print('confusion random')\n",
    "print(np.round(np.array([[all_tp_30_np.mean(), all_fp_30_np.mean()],\n",
    "       [all_fn_30_np.mean(), all_tn_30_np.mean()]]),4))\n",
    "\n",
    "df_all_tp_np = pd.DataFrame(np.stack([all_tp_np]).T, columns=[\"y\"])\n",
    "df_all_tp_30_np = pd.DataFrame(np.stack([all_tp_30_np.flatten()]).T, columns=[\"y\"])\n",
    "sn.distplot(df_all_tp_np, kde=False , norm_hist=True,color='orange', bins=20)\n",
    "sn.distplot(df_all_tp_30_np, kde=False , norm_hist=True,color='green', bins=20)\n",
    "plt.legend(['attention based','random'])\n",
    "plt.xlabel('True Positives')\n",
    "plt.ylabel('Density')\n",
    "\n",
    "\n"
   ],
   "metadata": {
    "collapsed": false,
    "pycharm": {
     "name": "#%%\n"
    }
   }
  },
  {
   "cell_type": "code",
   "execution_count": null,
   "outputs": [],
   "source": [],
   "metadata": {
    "collapsed": false,
    "pycharm": {
     "name": "#%%\n"
    }
   }
  },
  {
   "cell_type": "code",
   "execution_count": null,
   "outputs": [],
   "source": [
    "\n",
    "for name, pearsonR in tqdm(list(zip(names, pearsonRs))):\n",
    "    if pearsonR < 0.82: continue\n",
    "\n",
    "    attention_weights_name = os.path.join('data',input_name, name, 'default/version_0/attn_weights_test_head_0.csv')\n",
    "    if not os.path.exists(attention_weights_name):\n",
    "        attention_weights_name = os.path.join('data',input_name, name, 'FLAP/default/version_0/attn_weights_test_head_0.csv')\n",
    "\n",
    "    csv_input = pd.read_csv(attention_weights_name)\n",
    "    csv_input = csv_input.sort_values(by=['preds-0'], ascending=False)\n",
    "    #csv_input = csv_input.drop(csv_input.index[range(10,len(csv_input))])\n",
    "    query_sequences = list(set(csv_input['proteins_seq'].tolist()))\n",
    "\n",
    "    for query_idx, query_sequence in enumerate(query_sequences):\n",
    "        try:\n",
    "            seq_info = binding_db.loc[binding_db['BindingDB Target Chain  Sequence'] == query_sequence]\n",
    "            complex_ids_repeated = seq_info['PDB ID(s) for Ligand-Target Complex'].dropna().tolist()\n",
    "            complex_ids = list(set([pdbid for repeated in complex_ids_repeated for pdbid in str(repeated).split(',')]))\n",
    "            if complex_ids == []: continue\n",
    "            target_ids_repeated = seq_info['PDB ID(s) of Target Chain'].dropna().tolist()\n",
    "            target_ids = list(set([pdbid for repeated in target_ids_repeated for pdbid in str(repeated).split(',')]))\n",
    "            comp_and_target_ids = list(set(complex_ids) | set(target_ids))\n",
    "            has_target = anno.loc[anno['PDBID'].isin(comp_and_target_ids)]\n",
    "            has_target_by_sequence = anno.loc[anno['sequence'].isin(query_sequences)]\n",
    "            sequences = has_target['sequence'].tolist()\n",
    "\n",
    "            if name + 'query_idx' + str(query_idx) not in saved_alignments.keys():\n",
    "                print('missing ', name)\n",
    "                continue\n",
    "            all_alignments = saved_alignments[name + 'query_idx' + str(query_idx)]\n",
    "            if all_alignments == []: continue\n",
    "\n",
    "            scores = [alignment['score'] for alignment in all_alignments]\n",
    "            top3_misalginment_scores = sorted(list(set(-np.array(scores) + len(query_sequence))))[:3]\n",
    "            misaligned_allowance = top3_misalginment_scores[-1]\n",
    "\n",
    "            alignment_ratio = 0.01  # This is the percentage of a sequence that needs to be aligned to the original sequence to include its binding sites\n",
    "\n",
    "            row = csv_input.loc[csv_input['proteins_seq'] == query_sequence]\n",
    "            random_results = []\n",
    "            pred_results=[]\n",
    "            results= []\n",
    "            for top_k in [3, 5, 10, 20, 30, 50]:\n",
    "                attention = np.array(row.values.tolist())\n",
    "                attention = attention[:, 7:len(query_sequence) + 7].astype(float)[:top_k]\n",
    "                attention_mean = attention.mean(axis=0)\n",
    "                attention_mean = attention_mean / attention_mean.max()\n",
    "                top_prediction_idx = attention_mean.argsort()[-3:][::-1]\n",
    "                top_predictions = np.zeros_like(attention_mean)\n",
    "                top_predictions[np.array(top_prediction_idx)] = 1\n",
    "\n",
    "                repeats = int(np.ceil(attention.shape[0] / 30))\n",
    "                is_binding_site = binding_site_annotation(all_alignments, has_target_frame=has_target,\n",
    "                                                          input_sequence=query_sequence, misaligned_allowance=misaligned_allowance)\n",
    "\n",
    "                rand_tpr3 = 0\n",
    "                n_rand = 30\n",
    "                for i in range(n_rand):\n",
    "                    random_int_idx = np.random.randint(0, len(is_binding_site), size=3)\n",
    "                    random_int = np.zeros_like(is_binding_site)\n",
    "                    random_int[random_int_idx] = 1\n",
    "                    random_int_dist3 = realign(random_int,is_binding_site.astype(int), dist=3)\n",
    "                    true_pos_random3 = precision_score(is_binding_site.astype(int), random_int_dist3.astype(int))\n",
    "                    rand_tpr3 += true_pos_random3\n",
    "                rand_tpr3 = rand_tpr3/n_rand\n",
    "                random_int_idx = np.random.randint(0, len(is_binding_site), size=3)\n",
    "                random_int = np.zeros_like(is_binding_site)\n",
    "                random_int[random_int_idx] = 1\n",
    "                random_intAvgP = average_precision_score(is_binding_site, random_int)\n",
    "                random_int_true_positive_rate = precision_score(is_binding_site, random_int)\n",
    "                continuous_preds_dist1 = realign(attention_mean,is_binding_site.astype(int), dist=1)\n",
    "                continuous_preds_dist2 = realign(attention_mean,is_binding_site.astype(int), dist=2)\n",
    "                continuous_preds_dist3 = realign(attention_mean,is_binding_site.astype(int), dist=3)\n",
    "                preds_dist1 = realign(top_predictions,is_binding_site.astype(int), dist=1)\n",
    "                preds_dist2 = realign(top_predictions,is_binding_site.astype(int), dist=2)\n",
    "                preds_dist3 = realign(top_predictions,is_binding_site.astype(int), dist=3)\n",
    "                random_int_dist1 = realign(random_int,is_binding_site.astype(int), dist=1)\n",
    "                random_int_dist2 = realign(random_int,is_binding_site.astype(int), dist=2)\n",
    "                random_int_dist3 = realign(random_int,is_binding_site.astype(int), dist=3)\n",
    "                continuous_random = np.random.rand(len(attention_mean))\n",
    "                continuous_random = continuous_random/continuous_random.max()\n",
    "                random_cont_dist1 = realign(continuous_random,is_binding_site.astype(int), dist=1)\n",
    "                random_cont_dist2 = realign(continuous_random,is_binding_site.astype(int), dist=2)\n",
    "                random_cont_dist3 = realign(continuous_random,is_binding_site.astype(int), dist=3)\n",
    "                avgROC = average_precision_score(is_binding_site, top_predictions)\n",
    "                avgROC1 = average_precision_score(is_binding_site, continuous_preds_dist1)\n",
    "                avgROC2 = average_precision_score(is_binding_site, continuous_preds_dist2)\n",
    "                avgROC3 = average_precision_score(is_binding_site, continuous_preds_dist3)\n",
    "                random_avgROC = average_precision_score(is_binding_site, continuous_random)\n",
    "                random_avgROC1 = average_precision_score(is_binding_site, random_cont_dist1)\n",
    "                random_avgROC2 = average_precision_score(is_binding_site, random_cont_dist2)\n",
    "                random_avgROC3 = average_precision_score(is_binding_site, random_cont_dist3)\n",
    "                avgP = average_precision_score(is_binding_site, top_predictions)\n",
    "                avgP1 = average_precision_score(is_binding_site, continuous_preds_dist1)\n",
    "                avgP2 = average_precision_score(is_binding_site, continuous_preds_dist2)\n",
    "                avgP3 = average_precision_score(is_binding_site, continuous_preds_dist3)\n",
    "                random_avgP = average_precision_score(is_binding_site, continuous_random)\n",
    "                random_avgP1 = average_precision_score(is_binding_site, random_cont_dist1)\n",
    "                random_avgP2 = average_precision_score(is_binding_site, random_cont_dist2)\n",
    "                random_avgP3 = average_precision_score(is_binding_site, random_cont_dist3)\n",
    "                true_pos_rate = precision_score(is_binding_site.astype(int), top_predictions.astype(int))\n",
    "                true_pos_rate1 = precision_score(is_binding_site.astype(int), preds_dist1.astype(int))\n",
    "                true_pos_rate2 = precision_score(is_binding_site.astype(int), preds_dist2.astype(int))\n",
    "                true_pos_rate3 = precision_score(is_binding_site.astype(int), preds_dist3.astype(int))\n",
    "                true_pos_random = precision_score(is_binding_site.astype(int), random_int.astype(int))\n",
    "                true_pos_random1 = precision_score(is_binding_site.astype(int), random_int_dist1.astype(int))\n",
    "                true_pos_random2 = precision_score(is_binding_site.astype(int), random_int_dist2.astype(int))\n",
    "                true_pos_random3 = precision_score(is_binding_site.astype(int), random_int_dist3.astype(int))\n",
    "                visualization = np.concatenate(\n",
    "                    [np.tile(is_binding_site, (repeats, 1)), np.tile(attention_mean, (repeats, 1)), attention], axis=0)\n",
    "                ax = sn.heatmap(visualization, annot=False, cmap='pink', cbar=False)\n",
    "                plt.title(\n",
    "                    f'name: {name} \\n prot: {query_idx} pearsonR: {round(pearsonR, 2)} avgP: {round(avgP, 2)} randAvgP: {round(random_avgP, 2)} TPR: {round(true_pos_rate, 2)} randTPR: {round(true_pos_random, 2)} \\n avgP1: {round(avgP1,2)} avgP2: {round(avgP2,2)} avgP3: {round(avgP3,2)} TPR1: {round(true_pos_rate1,2)} TPR2: {round(true_pos_rate2,2)} TPR3: {round(true_pos_rate3,2)} \\n avgP1: {round(avgP1,2)} avgP2: {round(avgP2,2)} avgP3: {round(avgP3,2)} TPR1: {round(true_pos_rate1,2)} TPR2: {round(true_pos_rate2,2)} TPR3: {round(true_pos_rate3,2)}')\n",
    "                ax.hlines([repeats * 2], *ax.get_xlim())\n",
    "                plt.savefig(\n",
    "                    f'{output_name}/{name}_prot{query_idx}_top{top_k}_pearsonR{round(pearsonR, 2)}_avgP{round(avgP, 2)}_tpr{round(true_pos_rate, 2)}.jpg')\n",
    "                plt.show()\n",
    "                plt.clf()\n",
    "                #break\n",
    "\n",
    "                random_results.append(rand_tpr3)\n",
    "                pred_results.append(true_pos_rate3)\n",
    "                results.append(true_pos_rate3 - rand_tpr3)\n",
    "            all_results.append(results)\n",
    "            all_pred_results.append(pred_results)\n",
    "            all_random_results.append(random_results)\n",
    "        except Exception as e:\n",
    "            print(e)\n",
    "            print('For name ', name)\n",
    "\n"
   ],
   "metadata": {
    "collapsed": false,
    "pycharm": {
     "name": "#%%\n",
     "is_executing": true
    }
   }
  },
  {
   "cell_type": "code",
   "execution_count": null,
   "outputs": [],
   "source": [],
   "metadata": {
    "collapsed": false,
    "pycharm": {
     "name": "#%%\n"
    }
   }
  }
 ],
 "metadata": {
  "kernelspec": {
   "display_name": "Python 3",
   "language": "python",
   "name": "python3"
  },
  "language_info": {
   "codemirror_mode": {
    "name": "ipython",
    "version": 2
   },
   "file_extension": ".py",
   "mimetype": "text/x-python",
   "name": "python",
   "nbconvert_exporter": "python",
   "pygments_lexer": "ipython2",
   "version": "2.7.6"
  }
 },
 "nbformat": 4,
 "nbformat_minor": 0
}