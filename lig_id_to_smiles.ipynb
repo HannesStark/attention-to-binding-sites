{
 "cells": [
  {
   "cell_type": "code",
   "execution_count": 2,
   "metadata": {
    "collapsed": true
   },
   "outputs": [],
   "source": [
    "import pandas as pd\n",
    "import os\n",
    "import seaborn as sn\n",
    "import matplotlib as mpl\n",
    "from tqdm import tqdm\n",
    "from sklearn.metrics import roc_auc_score, average_precision_score, precision_score\n",
    "import pickle\n",
    "sn.set_theme()\n",
    "mpl.rcParams['figure.dpi'] = 300\n",
    "sn.set_style(\"whitegrid\")\n",
    "import numpy as np\n",
    "from matplotlib import pyplot as plt\n",
    "from Bio.pairwise2 import format_alignment\n",
    "from Bio import pairwise2\n"
   ]
  },
  {
   "cell_type": "code",
   "execution_count": 30,
   "outputs": [
    {
     "name": "stderr",
     "output_type": "stream",
     "text": [
      "C:\\Users\\HannesStark\\Anaconda3\\envs\\equibind\\lib\\site-packages\\IPython\\core\\interactiveshell.py:3457: DtypeWarning: Columns (10,11,13,14,15,16,17) have mixed types.Specify dtype option on import or set low_memory=False.\n",
      "  exec(code_obj, self.user_global_ns, self.user_ns)\n"
     ]
    },
    {
     "name": "stdout",
     "output_type": "stream",
     "text": [
      "        Unnamed: 0 PDBID PDBchain  Resolution Binding site number code  \\\n",
      "0                0  2RSH        A         NaN                     BS01   \n",
      "1                1  2RSI        A         NaN                     BS01   \n",
      "2                2  2RSI        A         NaN                     BS02   \n",
      "3                3  2RSI        A         NaN                     BS03   \n",
      "4                4  2RSJ        A         NaN                     BS01   \n",
      "...            ...   ...      ...         ...                      ...   \n",
      "562194         220  7WBR        E        2.19                     BS01   \n",
      "562195         221  7WBR        F        2.19                     BS01   \n",
      "562196         222  7WBR        G        2.19                     BS01   \n",
      "562197         223  7WBR        H        2.19                     BS01   \n",
      "562198         224  7WF7        A        3.40                     BS01   \n",
      "\n",
      "       LigandID Ligand chain  Ligand serial number  \\\n",
      "0            ZN            A                     1   \n",
      "1            ZN            A                     1   \n",
      "2            ZN            A                     2   \n",
      "3            ZN            A                     3   \n",
      "4            ZN            A                     1   \n",
      "...         ...          ...                   ...   \n",
      "562194      CIT            E                     1   \n",
      "562195      CIT            F                     1   \n",
      "562196      CIT            G                     1   \n",
      "562197      CIT            H                     1   \n",
      "562198      S1P            A                     1   \n",
      "\n",
      "                          Binding site residuesPDB  \\\n",
      "0                                  C12 C15 H28 H33   \n",
      "1                              C12 C15 Y17 H28 H32   \n",
      "2                                  C39 C42 H55 H60   \n",
      "3                                  C67 C70 H83 H88   \n",
      "4                                  C12 C15 H28 H32   \n",
      "...                                            ...   \n",
      "562194               H235 N239 H271 H319 R328 R400   \n",
      "562195          H235 N239 H271 H319 R328 F396 R400   \n",
      "562196               H235 N239 H271 H319 R328 R400   \n",
      "562197          H235 N239 H271 H319 R328 D374 R400   \n",
      "562198  Y29 K34 N101 R120 E121 G122 M124 F125 L297   \n",
      "\n",
      "                     Binding site residues1  ... Catalytic site residues1  \\\n",
      "0                           C12 C15 H28 H33  ...                      NaN   \n",
      "1                       C12 C15 Y17 H28 H32  ...                      NaN   \n",
      "2                           C39 C42 H55 H60  ...                      NaN   \n",
      "3                           C67 C70 H83 H88  ...                      NaN   \n",
      "4                           C12 C15 H28 H32  ...                      NaN   \n",
      "...                                     ...  ...                      ...   \n",
      "562194        H234 N238 H270 H309 R318 R390  ...                      NaN   \n",
      "562195   H234 N238 H270 H304 R313 F381 R385  ...                      NaN   \n",
      "562196        H234 N238 H270 H309 R318 R390  ...                      NaN   \n",
      "562197   H234 N238 H270 H304 R313 D359 R385  ...                      NaN   \n",
      "562198  Y7 K12 N70 R89 E90 G91 M93 F94 L244  ...                      NaN   \n",
      "\n",
      "       EC number GO terms Binding affinity PubMedID  \\\n",
      "0            NaN      NaN                       NaN   \n",
      "1            NaN      NaN                       NaN   \n",
      "2            NaN      NaN                       NaN   \n",
      "3            NaN      NaN                       NaN   \n",
      "4            NaN      NaN                       NaN   \n",
      "...          ...      ...                       ...   \n",
      "562194  2.3.3.16      NaN                       NaN   \n",
      "562195  2.3.3.16      NaN                       NaN   \n",
      "562196  2.3.3.16      NaN                       NaN   \n",
      "562197  2.3.3.16      NaN                       NaN   \n",
      "562198       NaN      NaN                       NaN   \n",
      "\n",
      "       Binding affinity MOADdatabase Binding affinity PDBbind  \\\n",
      "0                                NaN                      NaN   \n",
      "1                                NaN                      NaN   \n",
      "2                                NaN                      NaN   \n",
      "3                                NaN                      NaN   \n",
      "4                                NaN                      NaN   \n",
      "...                              ...                      ...   \n",
      "562194                           NaN                      NaN   \n",
      "562195                           NaN                      NaN   \n",
      "562196                           NaN                      NaN   \n",
      "562197                           NaN                      NaN   \n",
      "562198                           NaN                      NaN   \n",
      "\n",
      "       Binding affinity BindingDB   UniProtID    PubMedID  \\\n",
      "0                             NaN      Q9P243         NaN   \n",
      "1                             NaN      Q9P243         NaN   \n",
      "2                             NaN      Q9P243         NaN   \n",
      "3                             NaN      Q9P243         NaN   \n",
      "4                             NaN      Q9P243         NaN   \n",
      "...                           ...         ...         ...   \n",
      "562194                        NaN  A0A7C2VVZ8         NaN   \n",
      "562195                        NaN  A0A7C2VVZ8         NaN   \n",
      "562196                        NaN  A0A7C2VVZ8         NaN   \n",
      "562197                        NaN  A0A7C2VVZ8         NaN   \n",
      "562198                        NaN      P21453  34937912.0   \n",
      "\n",
      "                                                 sequence  \n",
      "0                   GSSGSSGEKFACDYCSFTCLSKGHLKVHIERVHKKIK  \n",
      "1       GSSGSSGKPYKCPQCSYASAIKANLNVHLRKHTGEKFACDYCSFTC...  \n",
      "2       GSSGSSGKPYKCPQCSYASAIKANLNVHLRKHTGEKFACDYCSFTC...  \n",
      "3       GSSGSSGKPYKCPQCSYASAIKANLNVHLRKHTGEKFACDYCSFTC...  \n",
      "4       GSSGSSGKIFTCEYCNKVFKFKHSLQAHLRIHTNEKPYKCPQCSYA...  \n",
      "...                                                   ...  \n",
      "562194  SFLKEKLAEKIAQHRPRTTRLLKEFGNVKIDEVTISQAIGGMRGIK...  \n",
      "562195  SFLKEKLAEKIAQHRPRTTRLLKEFGNVKIDEVTISQAIGGMRGIK...  \n",
      "562196  SFLKEKLAEKIAQHRPRTTRLLKEFGNVKIDEVTISQAIGGMRGIK...  \n",
      "562197  SFLKEKLAEKIAQHRPRTTRLLKEFGNVKIDEVTISQAIGGMRGIK...  \n",
      "562198  DIIVRHYNYTGKLNKLTSVVFILICCFIILENIFVLLTIWKTKKFH...  \n",
      "\n",
      "[562199 rows x 21 columns]\n"
     ]
    }
   ],
   "source": [
    "\n",
    "anno = pd.read_csv('data/scraped_annotations.csv')\n",
    "print(anno)"
   ],
   "metadata": {
    "collapsed": false,
    "pycharm": {
     "name": "#%%\n"
    }
   }
  },
  {
   "cell_type": "code",
   "execution_count": 10,
   "outputs": [
    {
     "name": "stdout",
     "output_type": "stream",
     "text": [
      "                                                  SMILES LigandID  \\\n",
      "0                                               COC(=O)O      000   \n",
      "1      COc1cc(cc(c1OC)OC)C(C(=O)N2CCCCC2C(=O)OC(CCCc3...      001   \n",
      "2      CCC(C)C(C(=O)NC(CC(C)C)C(=O)O)NC(=O)C(Cc1ccccc...      002   \n",
      "3      CC(C)CN1c2c(c(n(n2)Cc3cccc4c3cccc4)c5ccncc5)C(...      003   \n",
      "4                                   c1ccc(cc1)C(C(=O)O)N      004   \n",
      "...                                                  ...      ...   \n",
      "37147  CN(c1c2cccnc2c(c3c1CN(C3=O)Cc4ccc(cc4)F)O)S(=O...      ZZV   \n",
      "37148         c1ccc2c(c1)c3cc(ncc3n2Cc4ccc(cc4)F)C(=O)NO      ZZW   \n",
      "37149  CCN1CC(n2c3c(c(c2C1=O)O)C(=O)N(N=C3C(=O)NC)Cc4...      ZZX   \n",
      "37150  c1ccc(c(c1)[N+](=O)[O-])S(=O)(=O)n2ccc3c2cc(cn...      ZZY   \n",
      "37151                       C1C(NC2=C(N1)N=C(NC2=O)N)C=O      ZZZ   \n",
      "\n",
      "                                                    Name  \n",
      "0                              methyl hydrogen carbonate  \n",
      "1      1-[2,2-difluoro-2-(3,4,5-trimethoxy-phenyl)-ac...  \n",
      "2      n-[(2r)-2-benzyl-4-(hydroxyamino)-4-oxobutanoy...  \n",
      "3      5-methyl-7-(2-methylpropyl)-2-(naphthalen-1-yl...  \n",
      "4                        (2s)-amino(phenyl)ethanoic acid  \n",
      "...                                                  ...  \n",
      "37147  n-[7-(4-fluorobenzyl)-9-hydroxy-8-oxo-7,8-dihy...  \n",
      "37148  9-(4-fluorobenzyl)-n-hydroxy-9h-beta-carboline...  \n",
      "37149  (6s)-2-(3-chloro-4-fluorobenzyl)-8-ethyl-10-hy...  \n",
      "37150  1-[(2-nitrophenyl)sulfonyl]-1h-pyrrolo[3,2-b]p...  \n",
      "37151                           6-formyltetrahydropterin  \n",
      "\n",
      "[37152 rows x 3 columns]\n"
     ]
    }
   ],
   "source": [
    "lig_id_to_smiles = pd.read_csv('data/Components-smiles-oe.smi', delimiter='\\t')\n",
    "print(lig_id_to_smiles)"
   ],
   "metadata": {
    "collapsed": false,
    "pycharm": {
     "name": "#%%\n"
    }
   }
  },
  {
   "cell_type": "code",
   "execution_count": 33,
   "outputs": [
    {
     "name": "stderr",
     "output_type": "stream",
     "text": [
      "37152it [00:02, 14022.65it/s]\n"
     ]
    }
   ],
   "source": [
    "lig_id_dict = {}\n",
    "for i,index_row in tqdm(enumerate(lig_id_to_smiles.iterrows())):\n",
    "    index, row = index_row\n",
    "    lig_id_dict[row['LigandID']] = row['SMILES']"
   ],
   "metadata": {
    "collapsed": false,
    "pycharm": {
     "name": "#%%\n"
    }
   }
  },
  {
   "cell_type": "code",
   "execution_count": 34,
   "outputs": [
    {
     "name": "stderr",
     "output_type": "stream",
     "text": [
      "562199it [00:39, 14334.97it/s]\n"
     ]
    }
   ],
   "source": [
    "\n",
    "indices = []\n",
    "ligand_ids = []\n",
    "all_smiles = []\n",
    "sequence = []\n",
    "\n",
    "for i,index_row in tqdm(enumerate(anno.iterrows())):\n",
    "    index, row = index_row\n",
    "    try:\n",
    "        smiles = lig_id_dict[row['LigandID']]\n",
    "    except:\n",
    "        continue\n",
    "\n",
    "\n",
    "    if not isinstance(smiles, str) or smiles[0] == '[': continue\n",
    "    all_smiles.append(smiles)\n",
    "    ligand_ids.append(row['LigandID'])\n",
    "    sequence.append(row['sequence'])\n",
    "    indices.append(index)\n",
    "\n"
   ],
   "metadata": {
    "collapsed": false,
    "pycharm": {
     "name": "#%%\n"
    }
   }
  },
  {
   "cell_type": "code",
   "execution_count": 35,
   "outputs": [],
   "source": [
    "df = pd.DataFrame(list(zip(indices,ligand_ids,all_smiles,sequence)),\n",
    "               columns =['entry_index', 'ligand_id', 'smiles', 'protein_sequence'])"
   ],
   "metadata": {
    "collapsed": false,
    "pycharm": {
     "name": "#%%\n"
    }
   }
  },
  {
   "cell_type": "code",
   "execution_count": 38,
   "outputs": [],
   "source": [
    "df.to_csv('smiles_and_protein_sequence_with_known_bindingsite.csv')"
   ],
   "metadata": {
    "collapsed": false,
    "pycharm": {
     "name": "#%%\n"
    }
   }
  },
  {
   "cell_type": "code",
   "execution_count": 39,
   "outputs": [
    {
     "name": "stdout",
     "output_type": "stream",
     "text": [
      "330578\n"
     ]
    }
   ],
   "source": [
    "print(len(df))"
   ],
   "metadata": {
    "collapsed": false,
    "pycharm": {
     "name": "#%%\n"
    }
   }
  }
 ],
 "metadata": {
  "kernelspec": {
   "display_name": "Python 3",
   "language": "python",
   "name": "python3"
  },
  "language_info": {
   "codemirror_mode": {
    "name": "ipython",
    "version": 2
   },
   "file_extension": ".py",
   "mimetype": "text/x-python",
   "name": "python",
   "nbconvert_exporter": "python",
   "pygments_lexer": "ipython2",
   "version": "2.7.6"
  }
 },
 "nbformat": 4,
 "nbformat_minor": 0
}